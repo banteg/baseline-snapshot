{
 "cells": [
  {
   "cell_type": "code",
   "execution_count": null,
   "id": "86017c25-1294-4c80-bce0-a8e882044a7e",
   "metadata": {},
   "outputs": [],
   "source": [
    "from collections import Counter, defaultdict, namedtuple\n",
    "from dataclasses import dataclass\n",
    "from decimal import Decimal\n",
    "from math import sqrt\n",
    "\n",
    "import polars as pl\n",
    "import requests\n",
    "from ape import Contract, chain, convert, networks\n",
    "from ape.contracts.base import ContractCall, MethodABI\n",
    "from ape.exceptions import ContractLogicError, VirtualMachineError\n",
    "from ape.types import AddressType\n",
    "from ape.utils import ZERO_ADDRESS\n",
    "from ape_ethereum.multicall import Call\n",
    "from ethpm_types import ContractType\n",
    "from ethpm_types.abi import ABIType\n",
    "from joblib import Memory, Parallel, delayed\n",
    "from rich import print\n",
    "from toolz import concat, partition_all, unique, valfilter\n",
    "from tqdm.notebook import tqdm"
   ]
  },
  {
   "cell_type": "code",
   "execution_count": null,
   "id": "756138c4-2972-4a12-9fc3-5cd466b8f275",
   "metadata": {},
   "outputs": [],
   "source": [
    "memory = Memory(\"cache\", verbose=0)\n",
    "\n",
    "\n",
    "# see this https://stackoverflow.com/questions/75202475/joblib-persistence-across-sessions-machines\n",
    "def cache(f):\n",
    "    f.__module__ = \"baseline_snapshot\"\n",
    "    f.__qualname__ = f.__name__\n",
    "    return memory.cache(f)"
   ]
  },
  {
   "cell_type": "code",
   "execution_count": null,
   "id": "5eb16a54-1c27-427b-983c-5beb0b96421a",
   "metadata": {},
   "outputs": [],
   "source": [
    "deploy_block = 312549\n",
    "snapshot_block = 1421059\n",
    "at_snap = {\n",
    "    \"block_identifier\": snapshot_block\n",
    "}  # use as **at_snap for calls to avoid typos"
   ]
  },
  {
   "cell_type": "code",
   "execution_count": null,
   "id": "34888279-2849-4872-a353-2ef17e08cabf",
   "metadata": {},
   "outputs": [
    {
     "data": {
      "text/plain": [
       "<geth chain_id=81457>"
      ]
     },
     "execution_count": null,
     "metadata": {},
     "output_type": "execute_result"
    }
   ],
   "source": [
    "networks.parse_network_choice(\"blast:mainnet:geth\").__enter__()"
   ]
  },
  {
   "cell_type": "code",
   "execution_count": null,
   "id": "66f9c172-a372-47da-8786-65d61779461b",
   "metadata": {},
   "outputs": [],
   "source": [
    "chain.provider.concurrency = 2\n",
    "chain.provider.block_page_size = 10_000\n",
    "\n",
    "parallel = Parallel(n_jobs=4, prefer=\"threads\", verbose=1)"
   ]
  },
  {
   "cell_type": "code",
   "execution_count": null,
   "id": "5a460dbc-9c8b-44bd-b1fd-a263ea877dcd",
   "metadata": {},
   "outputs": [],
   "source": [
    "baseline_abi = '{\"contractName\":\"Baseline\",\"abi\":[{\"type\":\"constructor\",\"inputs\":[{\"name\":\"name_\",\"type\":\"string\",\"internalType\":\"string\"},{\"name\":\"symbol_\",\"type\":\"string\",\"internalType\":\"string\"},{\"name\":\"reserve_\",\"type\":\"address\",\"internalType\":\"address\"},{\"name\":\"salt_\",\"type\":\"bytes32\",\"internalType\":\"bytes32\"},{\"name\":\"factory_\",\"type\":\"address\",\"internalType\":\"address\"},{\"name\":\"brs_\",\"type\":\"address\",\"internalType\":\"address\"}],\"stateMutability\":\"nonpayable\"},{\"type\":\"function\",\"name\":\"FEE_TIER\",\"inputs\":[],\"outputs\":[{\"name\":\"\",\"type\":\"uint24\",\"internalType\":\"uint24\"}],\"stateMutability\":\"view\"},{\"type\":\"function\",\"name\":\"INTEREST_PER_DIEM\",\"inputs\":[],\"outputs\":[{\"name\":\"\",\"type\":\"uint256\",\"internalType\":\"uint256\"}],\"stateMutability\":\"view\"},{\"type\":\"function\",\"name\":\"LIQ_FACTOR_GROWTH\",\"inputs\":[],\"outputs\":[{\"name\":\"\",\"type\":\"uint256\",\"internalType\":\"uint256\"}],\"stateMutability\":\"view\"},{\"type\":\"function\",\"name\":\"PRECISION\",\"inputs\":[],\"outputs\":[{\"name\":\"\",\"type\":\"uint256\",\"internalType\":\"uint256\"}],\"stateMutability\":\"view\"},{\"type\":\"function\",\"name\":\"REBALANCE_THRESHOLD\",\"inputs\":[],\"outputs\":[{\"name\":\"\",\"type\":\"int24\",\"internalType\":\"int24\"}],\"stateMutability\":\"view\"},{\"type\":\"function\",\"name\":\"TAKE_RATE\",\"inputs\":[],\"outputs\":[{\"name\":\"\",\"type\":\"uint256\",\"internalType\":\"uint256\"}],\"stateMutability\":\"view\"},{\"type\":\"function\",\"name\":\"bAsset\",\"inputs\":[],\"outputs\":[{\"name\":\"\",\"type\":\"address\",\"internalType\":\"contract BAsset\"}],\"stateMutability\":\"view\"},{\"type\":\"function\",\"name\":\"baselineFactory\",\"inputs\":[],\"outputs\":[{\"name\":\"\",\"type\":\"address\",\"internalType\":\"contract BaselineFactory\"}],\"stateMutability\":\"view\"},{\"type\":\"function\",\"name\":\"borrow\",\"inputs\":[{\"name\":\"user_\",\"type\":\"address\",\"internalType\":\"address\"},{\"name\":\"bAssetsIn_\",\"type\":\"uint256\",\"internalType\":\"uint256\"},{\"name\":\"numDays_\",\"type\":\"uint256\",\"internalType\":\"uint256\"}],\"outputs\":[{\"name\":\"\",\"type\":\"uint256\",\"internalType\":\"uint256\"},{\"name\":\"\",\"type\":\"uint256\",\"internalType\":\"uint256\"}],\"stateMutability\":\"nonpayable\"},{\"type\":\"function\",\"name\":\"brs\",\"inputs\":[],\"outputs\":[{\"name\":\"\",\"type\":\"address\",\"internalType\":\"address\"}],\"stateMutability\":\"view\"},{\"type\":\"function\",\"name\":\"canShift\",\"inputs\":[],\"outputs\":[{\"name\":\"\",\"type\":\"bool\",\"internalType\":\"bool\"}],\"stateMutability\":\"view\"},{\"type\":\"function\",\"name\":\"canSlide\",\"inputs\":[],\"outputs\":[{\"name\":\"\",\"type\":\"bool\",\"internalType\":\"bool\"}],\"stateMutability\":\"view\"},{\"type\":\"function\",\"name\":\"checkpointTick\",\"inputs\":[],\"outputs\":[{\"name\":\"\",\"type\":\"int24\",\"internalType\":\"int24\"}],\"stateMutability\":\"view\"},{\"type\":\"function\",\"name\":\"defaultOutstanding\",\"inputs\":[],\"outputs\":[],\"stateMutability\":\"nonpayable\"},{\"type\":\"function\",\"name\":\"estimateBorrow\",\"inputs\":[{\"name\":\"user_\",\"type\":\"address\",\"internalType\":\"address\"},{\"name\":\"bAssetsIn_\",\"type\":\"uint256\",\"internalType\":\"uint256\"},{\"name\":\"addDays_\",\"type\":\"uint256\",\"internalType\":\"uint256\"}],\"outputs\":[{\"name\":\"estPrincipal\",\"type\":\"uint256\",\"internalType\":\"uint256\"},{\"name\":\"interest\",\"type\":\"uint256\",\"internalType\":\"uint256\"},{\"name\":\"newExpiry\",\"type\":\"uint256\",\"internalType\":\"uint256\"}],\"stateMutability\":\"view\"},{\"type\":\"function\",\"name\":\"floorTick\",\"inputs\":[],\"outputs\":[{\"name\":\"\",\"type\":\"int24\",\"internalType\":\"int24\"}],\"stateMutability\":\"view\"},{\"type\":\"function\",\"name\":\"getBalancesForPosition\",\"inputs\":[{\"name\":\"position_\",\"type\":\"tuple\",\"internalType\":\"struct LiquidityManager.Position\",\"components\":[{\"name\":\"posType\",\"type\":\"uint8\",\"internalType\":\"enum LiquidityManager.PosType\"},{\"name\":\"lower\",\"type\":\"int24\",\"internalType\":\"int24\"},{\"name\":\"upper\",\"type\":\"int24\",\"internalType\":\"int24\"}]}],\"outputs\":[{\"name\":\"reserves\",\"type\":\"uint256\",\"internalType\":\"uint256\"},{\"name\":\"bAssets\",\"type\":\"uint256\",\"internalType\":\"uint256\"}],\"stateMutability\":\"view\"},{\"type\":\"function\",\"name\":\"getCirculatingSupply\",\"inputs\":[],\"outputs\":[{\"name\":\"\",\"type\":\"uint256\",\"internalType\":\"uint256\"}],\"stateMutability\":\"view\"},{\"type\":\"function\",\"name\":\"getCreditAccount\",\"inputs\":[{\"name\":\"user_\",\"type\":\"address\",\"internalType\":\"address\"}],\"outputs\":[{\"name\":\"\",\"type\":\"tuple\",\"internalType\":\"struct CreditFacility.CreditAccount\",\"components\":[{\"name\":\"principal\",\"type\":\"uint256\",\"internalType\":\"uint256\"},{\"name\":\"interest\",\"type\":\"uint256\",\"internalType\":\"uint256\"},{\"name\":\"collateral\",\"type\":\"uint256\",\"internalType\":\"uint256\"},{\"name\":\"expiry\",\"type\":\"uint256\",\"internalType\":\"uint256\"},{\"name\":\"lastFloor\",\"type\":\"uint256\",\"internalType\":\"uint256\"}]}],\"stateMutability\":\"view\"},{\"type\":\"function\",\"name\":\"getFloorPrice\",\"inputs\":[],\"outputs\":[{\"name\":\"\",\"type\":\"uint256\",\"internalType\":\"uint256\"}],\"stateMutability\":\"view\"},{\"type\":\"function\",\"name\":\"getInterest\",\"inputs\":[{\"name\":\"credit_\",\"type\":\"uint256\",\"internalType\":\"uint256\"},{\"name\":\"numDays_\",\"type\":\"uint256\",\"internalType\":\"uint256\"}],\"outputs\":[{\"name\":\"\",\"type\":\"uint256\",\"internalType\":\"uint256\"}],\"stateMutability\":\"pure\"},{\"type\":\"function\",\"name\":\"getNumDays\",\"inputs\":[{\"name\":\"seconds_\",\"type\":\"uint256\",\"internalType\":\"uint256\"}],\"outputs\":[{\"name\":\"\",\"type\":\"uint256\",\"internalType\":\"uint256\"}],\"stateMutability\":\"pure\"},{\"type\":\"function\",\"name\":\"getPosition\",\"inputs\":[{\"name\":\"posType_\",\"type\":\"uint8\",\"internalType\":\"enum LiquidityManager.PosType\"}],\"outputs\":[{\"name\":\"position\",\"type\":\"tuple\",\"internalType\":\"struct LiquidityManager.Position\",\"components\":[{\"name\":\"posType\",\"type\":\"uint8\",\"internalType\":\"enum LiquidityManager.PosType\"},{\"name\":\"lower\",\"type\":\"int24\",\"internalType\":\"int24\"},{\"name\":\"upper\",\"type\":\"int24\",\"internalType\":\"int24\"}]}],\"stateMutability\":\"view\"},{\"type\":\"function\",\"name\":\"getPositionLiquidity\",\"inputs\":[{\"name\":\"position_\",\"type\":\"tuple\",\"internalType\":\"struct LiquidityManager.Position\",\"components\":[{\"name\":\"posType\",\"type\":\"uint8\",\"internalType\":\"enum LiquidityManager.PosType\"},{\"name\":\"lower\",\"type\":\"int24\",\"internalType\":\"int24\"},{\"name\":\"upper\",\"type\":\"int24\",\"internalType\":\"int24\"}]}],\"outputs\":[{\"name\":\"liquidity\",\"type\":\"uint128\",\"internalType\":\"uint128\"}],\"stateMutability\":\"view\"},{\"type\":\"function\",\"name\":\"getTimeslot\",\"inputs\":[{\"name\":\"timestamp_\",\"type\":\"uint256\",\"internalType\":\"uint256\"}],\"outputs\":[{\"name\":\"\",\"type\":\"uint256\",\"internalType\":\"uint256\"}],\"stateMutability\":\"pure\"},{\"type\":\"function\",\"name\":\"init\",\"inputs\":[{\"name\":\"preAsset_\",\"type\":\"address\",\"internalType\":\"contract PreAsset\"},{\"name\":\"router_\",\"type\":\"address\",\"internalType\":\"address\"},{\"name\":\"initTick_\",\"type\":\"int24\",\"internalType\":\"int24\"},{\"name\":\"initFloor_\",\"type\":\"uint256\",\"internalType\":\"uint256\"},{\"name\":\"initDisc_\",\"type\":\"uint256\",\"internalType\":\"uint256\"}],\"outputs\":[],\"stateMutability\":\"nonpayable\"},{\"type\":\"function\",\"name\":\"pool\",\"inputs\":[],\"outputs\":[{\"name\":\"\",\"type\":\"address\",\"internalType\":\"contract IUniswapV3Pool\"}],\"stateMutability\":\"view\"},{\"type\":\"function\",\"name\":\"rebalance\",\"inputs\":[],\"outputs\":[{\"name\":\"didRebalance\",\"type\":\"bool\",\"internalType\":\"bool\"}],\"stateMutability\":\"nonpayable\"},{\"type\":\"function\",\"name\":\"repay\",\"inputs\":[{\"name\":\"user_\",\"type\":\"address\",\"internalType\":\"address\"},{\"name\":\"reservesIn_\",\"type\":\"uint256\",\"internalType\":\"uint256\"}],\"outputs\":[{\"name\":\"\",\"type\":\"uint256\",\"internalType\":\"uint256\"}],\"stateMutability\":\"nonpayable\"},{\"type\":\"function\",\"name\":\"reserve\",\"inputs\":[],\"outputs\":[{\"name\":\"\",\"type\":\"address\",\"internalType\":\"contract ERC20\"}],\"stateMutability\":\"view\"},{\"type\":\"function\",\"name\":\"shift\",\"inputs\":[],\"outputs\":[{\"name\":\"\",\"type\":\"bool\",\"internalType\":\"bool\"}],\"stateMutability\":\"nonpayable\"},{\"type\":\"function\",\"name\":\"slide\",\"inputs\":[],\"outputs\":[{\"name\":\"\",\"type\":\"bool\",\"internalType\":\"bool\"}],\"stateMutability\":\"nonpayable\"},{\"type\":\"function\",\"name\":\"timeslots\",\"inputs\":[{\"name\":\"\",\"type\":\"uint256\",\"internalType\":\"uint256\"}],\"outputs\":[{\"name\":\"creditIssued\",\"type\":\"uint256\",\"internalType\":\"uint256\"},{\"name\":\"defaultableCollateral\",\"type\":\"uint256\",\"internalType\":\"uint256\"},{\"name\":\"nextTimeslot\",\"type\":\"uint256\",\"internalType\":\"uint256\"}],\"stateMutability\":\"view\"},{\"type\":\"function\",\"name\":\"totalBAssetCollateral\",\"inputs\":[],\"outputs\":[{\"name\":\"\",\"type\":\"uint256\",\"internalType\":\"uint256\"}],\"stateMutability\":\"view\"},{\"type\":\"function\",\"name\":\"totalLentReserves\",\"inputs\":[],\"outputs\":[{\"name\":\"\",\"type\":\"uint256\",\"internalType\":\"uint256\"}],\"stateMutability\":\"view\"},{\"type\":\"function\",\"name\":\"tsHead\",\"inputs\":[],\"outputs\":[{\"name\":\"\",\"type\":\"uint256\",\"internalType\":\"uint256\"}],\"stateMutability\":\"view\"},{\"type\":\"function\",\"name\":\"tsTail\",\"inputs\":[],\"outputs\":[{\"name\":\"\",\"type\":\"uint256\",\"internalType\":\"uint256\"}],\"stateMutability\":\"view\"},{\"type\":\"function\",\"name\":\"uniswapV3MintCallback\",\"inputs\":[{\"name\":\"tokensOwed_\",\"type\":\"uint256\",\"internalType\":\"uint256\"},{\"name\":\"reservesOwed_\",\"type\":\"uint256\",\"internalType\":\"uint256\"},{\"name\":\"\",\"type\":\"bytes\",\"internalType\":\"bytes\"}],\"outputs\":[],\"stateMutability\":\"nonpayable\"},{\"type\":\"event\",\"name\":\"Borrow\",\"inputs\":[{\"name\":\"user_\",\"type\":\"address\",\"indexed\":true,\"internalType\":\"address\"},{\"name\":\"collateralIn_\",\"type\":\"uint256\",\"indexed\":false,\"internalType\":\"uint256\"},{\"name\":\"creditOut_\",\"type\":\"uint256\",\"indexed\":false,\"internalType\":\"uint256\"},{\"name\":\"interest_\",\"type\":\"uint256\",\"indexed\":false,\"internalType\":\"uint256\"}],\"anonymous\":false},{\"type\":\"event\",\"name\":\"LiquidityStateSet\",\"inputs\":[{\"name\":\"floorTick_\",\"type\":\"int24\",\"indexed\":false,\"internalType\":\"int24\"},{\"name\":\"checkpointTick_\",\"type\":\"int24\",\"indexed\":false,\"internalType\":\"int24\"}],\"anonymous\":false},{\"type\":\"event\",\"name\":\"Repay\",\"inputs\":[{\"name\":\"user_\",\"type\":\"address\",\"indexed\":true,\"internalType\":\"address\"},{\"name\":\"creditIn_\",\"type\":\"uint256\",\"indexed\":false,\"internalType\":\"uint256\"},{\"name\":\"collateralOut_\",\"type\":\"uint256\",\"indexed\":false,\"internalType\":\"uint256\"}],\"anonymous\":false},{\"type\":\"error\",\"name\":\"InvalidAction\",\"inputs\":[]},{\"type\":\"error\",\"name\":\"InvalidCaller\",\"inputs\":[]},{\"type\":\"error\",\"name\":\"InvalidExpiry\",\"inputs\":[]},{\"type\":\"error\",\"name\":\"InvalidInput\",\"inputs\":[]},{\"type\":\"error\",\"name\":\"InvalidTokenOrder\",\"inputs\":[]},{\"type\":\"error\",\"name\":\"NoCollateralAvailable\",\"inputs\":[]},{\"type\":\"error\",\"name\":\"NoCreditAvailable\",\"inputs\":[]},{\"type\":\"error\",\"name\":\"T\",\"inputs\":[]}]}'\n",
    "basset_abi = '{\"contractName\":\"bAsset\",\"abi\":[{\"type\":\"constructor\",\"inputs\":[{\"name\":\"name_\",\"type\":\"string\",\"internalType\":\"string\"},{\"name\":\"symbol_\",\"type\":\"string\",\"internalType\":\"string\"}],\"stateMutability\":\"nonpayable\"},{\"type\":\"function\",\"name\":\"DOMAIN_SEPARATOR\",\"inputs\":[],\"outputs\":[{\"name\":\"\",\"type\":\"bytes32\",\"internalType\":\"bytes32\"}],\"stateMutability\":\"view\"},{\"type\":\"function\",\"name\":\"allowance\",\"inputs\":[{\"name\":\"\",\"type\":\"address\",\"internalType\":\"address\"},{\"name\":\"\",\"type\":\"address\",\"internalType\":\"address\"}],\"outputs\":[{\"name\":\"\",\"type\":\"uint256\",\"internalType\":\"uint256\"}],\"stateMutability\":\"view\"},{\"type\":\"function\",\"name\":\"approve\",\"inputs\":[{\"name\":\"spender\",\"type\":\"address\",\"internalType\":\"address\"},{\"name\":\"amount\",\"type\":\"uint256\",\"internalType\":\"uint256\"}],\"outputs\":[{\"name\":\"\",\"type\":\"bool\",\"internalType\":\"bool\"}],\"stateMutability\":\"nonpayable\"},{\"type\":\"function\",\"name\":\"balanceOf\",\"inputs\":[{\"name\":\"\",\"type\":\"address\",\"internalType\":\"address\"}],\"outputs\":[{\"name\":\"\",\"type\":\"uint256\",\"internalType\":\"uint256\"}],\"stateMutability\":\"view\"},{\"type\":\"function\",\"name\":\"baseline\",\"inputs\":[],\"outputs\":[{\"name\":\"\",\"type\":\"address\",\"internalType\":\"address\"}],\"stateMutability\":\"view\"},{\"type\":\"function\",\"name\":\"burn\",\"inputs\":[{\"name\":\"amount_\",\"type\":\"uint256\",\"internalType\":\"uint256\"}],\"outputs\":[],\"stateMutability\":\"nonpayable\"},{\"type\":\"function\",\"name\":\"decimals\",\"inputs\":[],\"outputs\":[{\"name\":\"\",\"type\":\"uint8\",\"internalType\":\"uint8\"}],\"stateMutability\":\"view\"},{\"type\":\"function\",\"name\":\"mint\",\"inputs\":[{\"name\":\"to\",\"type\":\"address\",\"internalType\":\"address\"},{\"name\":\"amount_\",\"type\":\"uint256\",\"internalType\":\"uint256\"}],\"outputs\":[],\"stateMutability\":\"nonpayable\"},{\"type\":\"function\",\"name\":\"name\",\"inputs\":[],\"outputs\":[{\"name\":\"\",\"type\":\"string\",\"internalType\":\"string\"}],\"stateMutability\":\"view\"},{\"type\":\"function\",\"name\":\"nonces\",\"inputs\":[{\"name\":\"\",\"type\":\"address\",\"internalType\":\"address\"}],\"outputs\":[{\"name\":\"\",\"type\":\"uint256\",\"internalType\":\"uint256\"}],\"stateMutability\":\"view\"},{\"type\":\"function\",\"name\":\"permit\",\"inputs\":[{\"name\":\"owner\",\"type\":\"address\",\"internalType\":\"address\"},{\"name\":\"spender\",\"type\":\"address\",\"internalType\":\"address\"},{\"name\":\"value\",\"type\":\"uint256\",\"internalType\":\"uint256\"},{\"name\":\"deadline\",\"type\":\"uint256\",\"internalType\":\"uint256\"},{\"name\":\"v\",\"type\":\"uint8\",\"internalType\":\"uint8\"},{\"name\":\"r\",\"type\":\"bytes32\",\"internalType\":\"bytes32\"},{\"name\":\"s\",\"type\":\"bytes32\",\"internalType\":\"bytes32\"}],\"outputs\":[],\"stateMutability\":\"nonpayable\"},{\"type\":\"function\",\"name\":\"symbol\",\"inputs\":[],\"outputs\":[{\"name\":\"\",\"type\":\"string\",\"internalType\":\"string\"}],\"stateMutability\":\"view\"},{\"type\":\"function\",\"name\":\"totalSupply\",\"inputs\":[],\"outputs\":[{\"name\":\"\",\"type\":\"uint256\",\"internalType\":\"uint256\"}],\"stateMutability\":\"view\"},{\"type\":\"function\",\"name\":\"transfer\",\"inputs\":[{\"name\":\"to\",\"type\":\"address\",\"internalType\":\"address\"},{\"name\":\"amount\",\"type\":\"uint256\",\"internalType\":\"uint256\"}],\"outputs\":[{\"name\":\"\",\"type\":\"bool\",\"internalType\":\"bool\"}],\"stateMutability\":\"nonpayable\"},{\"type\":\"function\",\"name\":\"transferFrom\",\"inputs\":[{\"name\":\"from\",\"type\":\"address\",\"internalType\":\"address\"},{\"name\":\"to\",\"type\":\"address\",\"internalType\":\"address\"},{\"name\":\"amount\",\"type\":\"uint256\",\"internalType\":\"uint256\"}],\"outputs\":[{\"name\":\"\",\"type\":\"bool\",\"internalType\":\"bool\"}],\"stateMutability\":\"nonpayable\"},{\"type\":\"event\",\"name\":\"Approval\",\"inputs\":[{\"name\":\"owner\",\"type\":\"address\",\"indexed\":true,\"internalType\":\"address\"},{\"name\":\"spender\",\"type\":\"address\",\"indexed\":true,\"internalType\":\"address\"},{\"name\":\"amount\",\"type\":\"uint256\",\"indexed\":false,\"internalType\":\"uint256\"}],\"anonymous\":false},{\"type\":\"event\",\"name\":\"Transfer\",\"inputs\":[{\"name\":\"from\",\"type\":\"address\",\"indexed\":true,\"internalType\":\"address\"},{\"name\":\"to\",\"type\":\"address\",\"indexed\":true,\"internalType\":\"address\"},{\"name\":\"amount\",\"type\":\"uint256\",\"indexed\":false,\"internalType\":\"uint256\"}],\"anonymous\":false},{\"type\":\"error\",\"name\":\"InvalidCaller\",\"inputs\":[]}]}'"
   ]
  },
  {
   "cell_type": "code",
   "execution_count": null,
   "id": "36936ddb-4ba4-48b2-b0bc-9dd83d17a7a2",
   "metadata": {},
   "outputs": [],
   "source": [
    "baseline = Contract(\n",
    "    \"0x14eB8d9b6e19842B5930030B18c50B0391561f27\",\n",
    "    contract_type=ContractType.model_validate_json(baseline_abi),\n",
    ")\n",
    "yes = Contract(\n",
    "    \"0x20fE91f17ec9080E3caC2d688b4EcB48C5aC3a9C\",\n",
    "    contract_type=ContractType.model_validate_json(basset_abi),\n",
    ")\n",
    "weth = Contract(\"0x4300000000000000000000000000000000000004\")\n",
    "usdb = Contract(\"0x4300000000000000000000000000000000000003\")"
   ]
  },
  {
   "cell_type": "markdown",
   "id": "2ada3d7b-f696-4c46-bc78-b90c37f6df31",
   "metadata": {},
   "source": [
    "# utils\n"
   ]
  },
  {
   "cell_type": "code",
   "execution_count": null,
   "id": "3893e707-3130-492a-89c2-785d284e9c1f",
   "metadata": {},
   "outputs": [],
   "source": [
    "def transfers_to_balances(logs, zero_address=ZERO_ADDRESS):\n",
    "    balances = Counter()\n",
    "\n",
    "    for log in logs:\n",
    "        src, dst, amt = log.event_arguments.values()\n",
    "        if src != zero_address:\n",
    "            balances[src] -= amt\n",
    "        if dst != zero_address:\n",
    "            balances[dst] += amt\n",
    "\n",
    "    return valfilter(bool, dict(balances.most_common()))\n",
    "\n",
    "\n",
    "def eth(wei, decimals=18):\n",
    "    return Decimal(wei) / 10**decimals\n",
    "\n",
    "\n",
    "@dataclass\n",
    "class Result:\n",
    "    source: AddressType\n",
    "    protocol: str\n",
    "    user: AddressType\n",
    "    token: AddressType\n",
    "    balance: Decimal"
   ]
  },
  {
   "cell_type": "code",
   "execution_count": null,
   "id": "09a0f5a8-816b-42e7-a43c-4c7d12b9a82b",
   "metadata": {},
   "outputs": [],
   "source": [
    "@cache\n",
    "def fetch_logs(address, event_name, start=deploy_block, end=snapshot_block, desc=None):\n",
    "    # NOTE in python ranges are [start, end), adding 1 to end is correct\n",
    "    event = getattr(Contract(address), event_name)\n",
    "    return list(tqdm(event.range(start, end + 1), desc=desc))\n",
    "\n",
    "\n",
    "@cache\n",
    "def multicall(address, method_name, args, at=snapshot_block, batch_size=500, desc=None):\n",
    "    results = []\n",
    "    handler = getattr(Contract(address), method_name)\n",
    "    batches = list(partition_all(batch_size, args))\n",
    "    for batch in tqdm(batches, desc=desc):\n",
    "        call = Call()\n",
    "        for arg in batch:\n",
    "            call.add(handler, arg)\n",
    "        results.extend(call(block_identifier=at))\n",
    "    return results"
   ]
  },
  {
   "cell_type": "markdown",
   "id": "31c13ea9-1d69-44d8-ada6-f8e63134a5c5",
   "metadata": {},
   "source": [
    "# spot holders\n"
   ]
  },
  {
   "cell_type": "code",
   "execution_count": null,
   "id": "cff7a824-be31-41d2-a928-dc920fbdc1ba",
   "metadata": {},
   "outputs": [],
   "source": [
    "yes_transfers = fetch_logs(str(yes), \"Transfer\", desc=\"yes transfers\")"
   ]
  },
  {
   "cell_type": "code",
   "execution_count": null,
   "id": "aff1c894-370f-4bcf-a1c5-465ff9e31ecb",
   "metadata": {},
   "outputs": [
    {
     "data": {
      "text/plain": [
       "3960"
      ]
     },
     "execution_count": null,
     "metadata": {},
     "output_type": "execute_result"
    }
   ],
   "source": [
    "spot_balances = transfers_to_balances(yes_transfers)\n",
    "assert sum(spot_balances.values()) == yes.totalSupply(**at_snap), \"supply mismatch\"\n",
    "len(spot_balances)"
   ]
  },
  {
   "cell_type": "code",
   "execution_count": null,
   "id": "cc66ad28-9bf2-4c54-9677-4a827d2b8756",
   "metadata": {},
   "outputs": [
    {
     "data": {
      "text/plain": [
       "3009"
      ]
     },
     "execution_count": null,
     "metadata": {},
     "output_type": "execute_result"
    }
   ],
   "source": [
    "# don't snapshot balances below 1 yes\n",
    "spot_balances = {k: v for k, v in spot_balances.items() if eth(v) >= 1}\n",
    "len(spot_balances)"
   ]
  },
  {
   "cell_type": "markdown",
   "id": "1e080f2f-919c-48b8-9485-262898add569",
   "metadata": {},
   "source": [
    "### now we need to filter out contracts so we can manually go through them\n"
   ]
  },
  {
   "cell_type": "code",
   "execution_count": null,
   "id": "bd83825f-dc98-4070-a264-728fd71de2c4",
   "metadata": {},
   "outputs": [],
   "source": [
    "spot_addresses = sorted(spot_balances)"
   ]
  },
  {
   "cell_type": "code",
   "execution_count": null,
   "id": "505403ff-9295-4e55-a03a-b0e0fd7d9309",
   "metadata": {},
   "outputs": [],
   "source": [
    "@cache\n",
    "def get_code(a):\n",
    "    return chain.provider.get_code(a)"
   ]
  },
  {
   "cell_type": "code",
   "execution_count": null,
   "id": "bd8500e9-3306-40de-90b1-305169ae73cd",
   "metadata": {},
   "outputs": [
    {
     "name": "stderr",
     "output_type": "stream",
     "text": [
      "[Parallel(n_jobs=4)]: Using backend ThreadingBackend with 4 concurrent workers.\n",
      "[Parallel(n_jobs=4)]: Done  42 tasks      | elapsed:    0.0s\n",
      "[Parallel(n_jobs=4)]: Done 192 tasks      | elapsed:    0.1s\n",
      "[Parallel(n_jobs=4)]: Done 442 tasks      | elapsed:    0.1s\n",
      "[Parallel(n_jobs=4)]: Done 792 tasks      | elapsed:    0.2s\n",
      "[Parallel(n_jobs=4)]: Done 1242 tasks      | elapsed:    0.3s\n",
      "[Parallel(n_jobs=4)]: Done 1792 tasks      | elapsed:    0.4s\n",
      "[Parallel(n_jobs=4)]: Done 2442 tasks      | elapsed:    0.6s\n",
      "[Parallel(n_jobs=4)]: Done 3009 out of 3009 | elapsed:    0.7s finished\n"
     ]
    }
   ],
   "source": [
    "spot_codes = parallel(delayed(get_code)(addr) for addr in spot_addresses)"
   ]
  },
  {
   "cell_type": "code",
   "execution_count": null,
   "id": "5e4288b3-b6a6-462e-9cc0-95e148c7479c",
   "metadata": {},
   "outputs": [],
   "source": [
    "spot_contracts = [a for a, b in zip(spot_addresses, spot_codes) if b]"
   ]
  },
  {
   "cell_type": "markdown",
   "id": "aaaa64ee-cf35-4040-8e41-8c5b5a69c8f9",
   "metadata": {},
   "source": [
    "## detectors and unwrappers\n",
    "\n",
    "- `is_foo(addr) -> bool` detectors return a bool if an address can be attributed to a protocol\n",
    "- `unwrap_foo(addr) -> Result | list[Result]` unwrappers return one or more `Result` object\n"
   ]
  },
  {
   "cell_type": "markdown",
   "id": "d6c54f48-803b-4aed-b313-a4685a1a383b",
   "metadata": {},
   "source": [
    "### thruster v2 lp\n"
   ]
  },
  {
   "cell_type": "code",
   "execution_count": null,
   "id": "ff9a7aef-421d-41c5-a3f9-36b8ecc1481f",
   "metadata": {},
   "outputs": [],
   "source": [
    "factory_call = MethodABI(\n",
    "    type=\"function\",\n",
    "    name=\"factory\",\n",
    "    stateMutability=\"view\",\n",
    "    outputs=[ABIType(type=\"address\")],\n",
    ")\n",
    "pair_exists_call = MethodABI(\n",
    "    type=\"function\",\n",
    "    name=\"pairExists\",\n",
    "    stateMutability=\"view\",\n",
    "    inputs=[ABIType(type=\"address\")],\n",
    "    outputs=[ABIType(type=\"bool\")],\n",
    ")\n",
    "decimals_call = MethodABI(\n",
    "    type=\"function\",\n",
    "    name=\"decimals\",\n",
    "    stateMutability=\"view\",\n",
    "    outputs=[ABIType(type=\"uint256\")],\n",
    ")\n",
    "thruster_factories = {\n",
    "    \"0xb4A7D971D0ADea1c73198C97d7ab3f9CE4aaFA13\": \"0.3%\",\n",
    "    \"0x37836821a2c03c171fB1a595767f4a16e2b93Fc4\": \"1%\",\n",
    "}\n",
    "\n",
    "\n",
    "@cache\n",
    "def is_thruster_v2_lp(pair):\n",
    "    try:\n",
    "        factory = ContractCall(factory_call, pair)(skip_trace=True)\n",
    "        if factory not in thruster_factories:\n",
    "            return False\n",
    "        return ContractCall(pair_exists_call, factory)(pair, skip_trace=True)\n",
    "    except (ContractLogicError, VirtualMachineError) as e:\n",
    "        return False\n",
    "\n",
    "\n",
    "@cache\n",
    "def get_decimals(a):\n",
    "    if a == ZERO_ADDRESS:\n",
    "        return 18\n",
    "    return ContractCall(decimals_call, a)(skip_trace=True)\n",
    "\n",
    "\n",
    "def unwrap_thruster_v2_lp(a):\n",
    "    logs = fetch_logs(str(a), \"Transfer\", desc=\"thruster lp\")\n",
    "    balances = transfers_to_balances(logs)\n",
    "    pool = Contract(str(a))\n",
    "\n",
    "    call = Call()\n",
    "    call.add(pool.token0)\n",
    "    call.add(pool.token1)\n",
    "    call.add(pool.getReserves)\n",
    "    call.add(pool.totalSupply)\n",
    "    token0, token1, reserves, total_supply = call(**at_snap)\n",
    "    decimals0 = get_decimals(token0)\n",
    "    decimals1 = get_decimals(token1)\n",
    "\n",
    "    results = []\n",
    "    for u, l in balances.items():\n",
    "        results.extend(\n",
    "            [\n",
    "                Result(\n",
    "                    source=a,\n",
    "                    protocol=\"thruster-v2\",\n",
    "                    user=u,\n",
    "                    token=token0,\n",
    "                    balance=eth(l)\n",
    "                    * eth(reserves._reserve0, decimals0)\n",
    "                    / eth(total_supply),\n",
    "                ),\n",
    "                Result(\n",
    "                    source=a,\n",
    "                    protocol=\"thruster-v2\",\n",
    "                    user=u,\n",
    "                    token=token1,\n",
    "                    balance=eth(l)\n",
    "                    * eth(reserves._reserve1, decimals1)\n",
    "                    / eth(total_supply),\n",
    "                ),\n",
    "            ]\n",
    "        )\n",
    "    return results"
   ]
  },
  {
   "cell_type": "markdown",
   "id": "1359233d-439e-46c9-bc28-9b7426bbeab2",
   "metadata": {},
   "source": [
    "### safe wallet\n"
   ]
  },
  {
   "cell_type": "code",
   "execution_count": null,
   "id": "f3355641-55fc-4263-9cfa-63782d7f72d2",
   "metadata": {},
   "outputs": [],
   "source": [
    "master_copy_call = MethodABI(\n",
    "    type=\"function\",\n",
    "    name=\"masterCopy\",\n",
    "    stateMutability=\"view\",\n",
    "    outputs=[ABIType(type=\"address\")],\n",
    ")\n",
    "master_copies = {\n",
    "    \"0xd9Db270c1B5E3Bd161E8c8503c55cEABeE709552\": \"1.3.0\",\n",
    "    \"0x3E5c63644E683549055b9Be8653de26E0B4CD36E\": \"1.3.0+L2\",\n",
    "}\n",
    "\n",
    "\n",
    "@cache\n",
    "def is_gnosis_safe(addr):\n",
    "    try:\n",
    "        master_copy = ContractCall(master_copy_call, addr)(skip_trace=True)\n",
    "        return master_copy in master_copies\n",
    "    except (ContractLogicError, VirtualMachineError) as e:\n",
    "        return False\n",
    "\n",
    "\n",
    "def unwrap_gnosis_safe(addr):\n",
    "    return Result(\n",
    "        source=addr,\n",
    "        protocol=\"safe-wallet\",\n",
    "        user=addr,\n",
    "        token=str(yes),\n",
    "        balance=eth(spot_balances[addr]),\n",
    "    )"
   ]
  },
  {
   "cell_type": "markdown",
   "id": "f99335a1-57e1-45f1-b76f-f82ebc78ccee",
   "metadata": {},
   "source": [
    "### hyperlock\n"
   ]
  },
  {
   "cell_type": "code",
   "execution_count": null,
   "id": "1dee7e0a-46e4-4648-8795-993d0fcea123",
   "metadata": {},
   "outputs": [],
   "source": [
    "hyperlock = Contract(\"0xc28EffdfEF75448243c1d9bA972b97e32dF60d06\")\n",
    "hyperlock_deploy = 469338\n",
    "\n",
    "hyperlock_deposits = fetch_logs(str(hyperlock), \"Deposit\", desc=\"hyperlock deposits\")\n",
    "hyperlock_withdrawals = fetch_logs(\n",
    "    str(hyperlock), \"Withdraw\", desc=\"hyperlock withdrawals\"\n",
    ")"
   ]
  },
  {
   "cell_type": "code",
   "execution_count": null,
   "id": "236e23df-d6c2-4176-b085-b9e89d61e819",
   "metadata": {},
   "outputs": [],
   "source": [
    "hyperlocks = {}  # token_id => {pool, sender}\n",
    "for log in hyperlock_deposits:\n",
    "    hyperlocks[log[\"tokenId\"]] = {\"pool\": log[\"pool\"], \"owner\": log[\"sender\"]}"
   ]
  },
  {
   "cell_type": "markdown",
   "id": "72d50b63-6b0a-4bc0-b9eb-189772b302d6",
   "metadata": {},
   "source": [
    "### thruster v3\n"
   ]
  },
  {
   "cell_type": "code",
   "execution_count": null,
   "id": "a47d475e-d754-41bf-8952-1af6823fdf51",
   "metadata": {},
   "outputs": [],
   "source": [
    "thruster_pos_manager = Contract(\"0x434575EaEa081b735C985FA9bf63CD7b87e227F9\")\n",
    "thruster_pool_template = Contract(\"0x7f0DB0D77d0694F29c3f940b5B1F589FFf6EF2e0\")\n",
    "thruster_pool_factory = Contract(\"0x71b08f13B3c3aF35aAdEb3949AFEb1ded1016127\")"
   ]
  },
  {
   "cell_type": "code",
   "execution_count": null,
   "id": "b00657eb-3b76-458a-9a1c-14d464482cbd",
   "metadata": {},
   "outputs": [],
   "source": [
    "@cache\n",
    "def get_pool(token0, token1, fee):\n",
    "    return thruster_pool_factory.getPool(token0, token1, fee)\n",
    "\n",
    "\n",
    "@cache\n",
    "def get_slot0(pool):\n",
    "    return (\n",
    "        Contract(pool, contract_type=thruster_pool_template.contract_type)\n",
    "        .slot0(**at_snap)\n",
    "        .__dict__\n",
    "    )\n",
    "\n",
    "\n",
    "def fetch_thruster_nft_supply(a):\n",
    "    mints = fetch_logs(\n",
    "        str(thruster_pos_manager), \"IncreaseLiquidity\", desc=\"thruster mints\"\n",
    "    )\n",
    "    return max(log[\"tokenId\"] for log in mints)\n",
    "\n",
    "\n",
    "@cache\n",
    "def read_nft_position_manager(a):\n",
    "    pos_manager = Contract(str(a), contract_type=thruster_pos_manager.contract_type)\n",
    "    total_supply = fetch_thruster_nft_supply(str(a))\n",
    "    print(total_supply)\n",
    "    token_ids = list(range(1, total_supply + 1))\n",
    "\n",
    "    positions = multicall(str(pos_manager), \"positions\", token_ids, batch_size=2000)\n",
    "    positions = [p.__dict__ if p else p for p in positions]\n",
    "    owners = multicall(str(pos_manager), \"ownerOf\", token_ids, batch_size=2000)\n",
    "\n",
    "    result = {}\n",
    "    for i, p, o in zip(token_ids, positions, owners):\n",
    "        if p is None:\n",
    "            result[i] = None\n",
    "        else:\n",
    "            result[i] = {**p, \"owner\": o}\n",
    "\n",
    "    return result\n",
    "\n",
    "\n",
    "thruster_positions = read_nft_position_manager(str(thruster_pos_manager))"
   ]
  },
  {
   "cell_type": "code",
   "execution_count": null,
   "id": "1af19ff4-802b-4def-82cf-46d8b1e4f4b2",
   "metadata": {},
   "outputs": [],
   "source": [
    "# rewritten from https://github.com/Uniswap/v3-periphery/blob/main/contracts/libraries/LiquidityAmounts.sol\n",
    "def get_sqrt_ratio_at_tick(tick):\n",
    "    return sqrt(1.0001**tick) * 2**96\n",
    "\n",
    "\n",
    "def get_amount0_for_liquidity(sqrt_ratio_a_x96, sqrt_ratio_b_x96, liquidity):\n",
    "    sqrt_ratio_a_x96, sqrt_ratio_b_x96 = sorted([sqrt_ratio_a_x96, sqrt_ratio_b_x96])\n",
    "    return (\n",
    "        (liquidity * 2**96)\n",
    "        * (sqrt_ratio_b_x96 - sqrt_ratio_a_x96)\n",
    "        // sqrt_ratio_b_x96\n",
    "        // sqrt_ratio_a_x96\n",
    "    )\n",
    "\n",
    "\n",
    "def get_amount1_for_liquidity(sqrt_ratio_a_x96, sqrt_ratio_b_x96, liquidity):\n",
    "    sqrt_ratio_a_x96, sqrt_ratio_b_x96 = sorted([sqrt_ratio_a_x96, sqrt_ratio_b_x96])\n",
    "    return liquidity * (sqrt_ratio_b_x96 - sqrt_ratio_a_x96) // 2**96\n",
    "\n",
    "\n",
    "def get_amounts_for_liquidity(\n",
    "    sqrt_ratio_x96, sqrt_ratio_a_x96, sqrt_ratio_b_x96, liquidity\n",
    "):\n",
    "    sqrt_ratio_a_x96, sqrt_ratio_b_x96 = sorted([sqrt_ratio_a_x96, sqrt_ratio_b_x96])\n",
    "\n",
    "    if sqrt_ratio_x96 <= sqrt_ratio_a_x96:\n",
    "        amount0 = get_amount0_for_liquidity(\n",
    "            sqrt_ratio_a_x96, sqrt_ratio_b_x96, liquidity\n",
    "        )\n",
    "        amount1 = 0\n",
    "    elif sqrt_ratio_x96 < sqrt_ratio_b_x96:\n",
    "        amount0 = get_amount0_for_liquidity(sqrt_ratio_x96, sqrt_ratio_b_x96, liquidity)\n",
    "        amount1 = get_amount1_for_liquidity(sqrt_ratio_a_x96, sqrt_ratio_x96, liquidity)\n",
    "    else:\n",
    "        amount0 = 0\n",
    "        amount1 = get_amount1_for_liquidity(\n",
    "            sqrt_ratio_a_x96, sqrt_ratio_b_x96, liquidity\n",
    "        )\n",
    "\n",
    "    return amount0, amount1"
   ]
  },
  {
   "cell_type": "code",
   "execution_count": null,
   "id": "2853f8f9-0462-4a2a-a235-ad8786daa532",
   "metadata": {},
   "outputs": [],
   "source": [
    "pool_exists_call = MethodABI(\n",
    "    type=\"function\",\n",
    "    name=\"poolExists\",\n",
    "    stateMutability=\"view\",\n",
    "    inputs=[ABIType(type=\"address\")],\n",
    "    outputs=[ABIType(type=\"bool\")],\n",
    ")\n",
    "\n",
    "\n",
    "def is_thruster_v3_pool(pool):\n",
    "    try:\n",
    "        factory = ContractCall(factory_call, pool)()\n",
    "        if factory != str(thruster_pool_factory):\n",
    "            return False\n",
    "        return ContractCall(pool_exists_call, factory)(pool)\n",
    "    except (ContractLogicError, VirtualMachineError):\n",
    "        return False"
   ]
  },
  {
   "cell_type": "code",
   "execution_count": null,
   "id": "a8fda7f1-5164-45c5-a216-bd5ade1f4c66",
   "metadata": {},
   "outputs": [],
   "source": [
    "pool_to_positions = defaultdict(dict)\n",
    "for i, p in thruster_positions.items():\n",
    "    if p is None or str(yes) not in [p[\"token0\"], p[\"token1\"]]:\n",
    "        continue\n",
    "    pool = get_pool(p[\"token0\"], p[\"token1\"], p[\"fee\"])\n",
    "    pool_to_positions[pool][i] = p"
   ]
  },
  {
   "cell_type": "code",
   "execution_count": null,
   "id": "b87c1b5f-dd40-4a3a-a69a-f0e409b498d7",
   "metadata": {},
   "outputs": [],
   "source": [
    "particle = Contract(\"0x121B5ac4De4a3E6F4171956BC26ceda40Cb61a56\")\n",
    "particle_info = Contract(\"0x1E9C6f3e8c0169EFe78Ae9D354bF69d2aE83D459\")\n",
    "\n",
    "\n",
    "@cache\n",
    "def get_particles():\n",
    "    particles = {\n",
    "        i: p\n",
    "        for i, p in thruster_positions.items()\n",
    "        if p is not None\n",
    "        and p[\"owner\"] == str(particle)\n",
    "        and str(yes) in [p[\"token0\"], p[\"token1\"]]\n",
    "    }\n",
    "    particle_ids = sorted(particles)\n",
    "    infos = multicall(\n",
    "        str(particle_info), \"getInterestInfo\", particle_ids, desc=\"particle infos\"\n",
    "    )\n",
    "    lps = multicall(str(particle), \"lps\", particle_ids, desc=\"particle lps\")\n",
    "\n",
    "    for i, info, lp in zip(particle_ids, infos, lps):\n",
    "        if info is None:\n",
    "            continue\n",
    "        particles[i] = {**particles[i], **info.__dict__, **lp.__dict__}\n",
    "\n",
    "    return particles\n",
    "\n",
    "\n",
    "particles = get_particles()"
   ]
  },
  {
   "cell_type": "code",
   "execution_count": null,
   "id": "79822750-ac95-4bca-944c-7b97126ee81d",
   "metadata": {},
   "outputs": [],
   "source": [
    "def unwrap_thruster_v3_nft(i):\n",
    "    p = thruster_positions[i]\n",
    "\n",
    "    # alternatively `i in hyperlocks`, but this is more robust\n",
    "    if p[\"owner\"] == str(hyperlock):\n",
    "        pool = hyperlocks[i][\"pool\"]\n",
    "        user = hyperlocks[i][\"owner\"]\n",
    "        protocol = \"hyperlock\"\n",
    "    elif p[\"owner\"] == str(particle):\n",
    "        pool = get_pool(p[\"token0\"], p[\"token1\"], p[\"fee\"])\n",
    "        user = particles[i][\"owner\"]\n",
    "        protocol = \"particle\"\n",
    "    else:\n",
    "        pool = get_pool(p[\"token0\"], p[\"token1\"], p[\"fee\"])\n",
    "        user = p[\"owner\"]\n",
    "        protocol = \"thruster-v3\"\n",
    "\n",
    "    slot0 = get_slot0(pool)\n",
    "\n",
    "    amount0, amount1 = get_amounts_for_liquidity(\n",
    "        slot0[\"sqrtPriceX96\"],\n",
    "        get_sqrt_ratio_at_tick(p[\"tickLower\"]),\n",
    "        get_sqrt_ratio_at_tick(p[\"tickUpper\"]),\n",
    "        p[\"liquidity\"],\n",
    "    )\n",
    "    # add unclaimed interest on particle\n",
    "    if protocol == \"particle\":\n",
    "        amount0 += particles[i][\"token0Interest\"]\n",
    "        amount1 += particles[i][\"token1Interest\"]\n",
    "\n",
    "    decimals0 = get_decimals(p[\"token0\"])\n",
    "    decimals1 = get_decimals(p[\"token1\"])\n",
    "\n",
    "    return [\n",
    "        Result(\n",
    "            source=pool,\n",
    "            protocol=protocol,\n",
    "            user=user,\n",
    "            token=p[\"token0\"],\n",
    "            balance=eth(amount0, decimals0),\n",
    "        ),\n",
    "        Result(\n",
    "            source=pool,\n",
    "            protocol=protocol,\n",
    "            user=user,\n",
    "            token=p[\"token1\"],\n",
    "            balance=eth(amount1, decimals1),\n",
    "        ),\n",
    "    ]"
   ]
  },
  {
   "cell_type": "code",
   "execution_count": null,
   "id": "dc9df2dd-a203-4b83-be71-5adc6b4b7060",
   "metadata": {},
   "outputs": [],
   "source": [
    "def unwrap_thruster_v3_pool(pool):\n",
    "    results = []\n",
    "    for i, p in pool_to_positions[pool].items():\n",
    "        results.extend(unwrap_thruster_v3_nft(i))\n",
    "\n",
    "    return [x for x in results if x.balance > 0]\n",
    "\n",
    "\n",
    "# unwrap_thruster_v3_pool('0x07Cfc4c8779d3ab4d6103b3e04F4D719656E81f2')"
   ]
  },
  {
   "cell_type": "markdown",
   "id": "80dbcc67-923d-4025-a0be-502ba4976e08",
   "metadata": {},
   "source": [
    "## baseline\n"
   ]
  },
  {
   "cell_type": "code",
   "execution_count": null,
   "id": "34b95d1a-3bcf-48ca-ae4f-9a379f4004eb",
   "metadata": {},
   "outputs": [],
   "source": [
    "baseline = Contract(\"0x14eB8d9b6e19842B5930030B18c50B0391561f27\")\n",
    "\n",
    "\n",
    "@cache\n",
    "def get_baseline_credit_accounts():\n",
    "    borrows = fetch_logs(str(baseline), \"Borrow\", desc=\"baseline borrows\")\n",
    "    users = sorted({log[\"user_\"] for log in borrows})\n",
    "    credits = multicall(\n",
    "        str(baseline),\n",
    "        \"getCreditAccount\",\n",
    "        users,\n",
    "        batch_size=100,\n",
    "        desc=\"baseline credit accounts\",\n",
    "    )\n",
    "    return {k: v.__dict__ for k, v in zip(users, credits) if v.expiry != 0}\n",
    "\n",
    "\n",
    "credit_accounts = get_baseline_credit_accounts()"
   ]
  },
  {
   "cell_type": "code",
   "execution_count": null,
   "id": "9191998f-d9a3-4d3e-87e1-81165aa00235",
   "metadata": {},
   "outputs": [],
   "source": [
    "def is_baseline(a):\n",
    "    return a in [str(baseline)]\n",
    "\n",
    "\n",
    "def unwrap_baseline(a):\n",
    "    results = []\n",
    "    for user, credit in credit_accounts.items():\n",
    "        # NOTE the negative weth debt would need to be negated at a later step\n",
    "        results.extend(\n",
    "            [\n",
    "                Result(\n",
    "                    source=a,\n",
    "                    protocol=\"baseline\",\n",
    "                    user=user,\n",
    "                    token=str(weth),\n",
    "                    balance=-eth(credit[\"principal\"] + credit[\"interest\"]),\n",
    "                ),\n",
    "                Result(\n",
    "                    source=a,\n",
    "                    protocol=\"baseline\",\n",
    "                    user=user,\n",
    "                    token=str(yes),\n",
    "                    balance=eth(credit[\"collateral\"]),\n",
    "                ),\n",
    "            ]\n",
    "        )\n",
    "    return results"
   ]
  },
  {
   "cell_type": "markdown",
   "id": "8923c86e-5f27-45eb-a66f-b01184feba52",
   "metadata": {},
   "source": [
    "### ambient\n"
   ]
  },
  {
   "cell_type": "code",
   "execution_count": null,
   "id": "135cfd2d-93d6-41b0-8009-779eea1154ab",
   "metadata": {},
   "outputs": [],
   "source": [
    "ambient = Contract(\"0xaAaaaAAAFfe404EE9433EEf0094b6382D81fb958\")\n",
    "croc_query = Contract(\"0xA3BD3bE19012De72190c885FB270beb93e36a8A7\")"
   ]
  },
  {
   "cell_type": "code",
   "execution_count": null,
   "id": "86a044c8-fe13-4a33-885c-c52f62a23c75",
   "metadata": {},
   "outputs": [],
   "source": [
    "ambient_subgraph = (\n",
    "    \"https://api.studio.thegraph.com/proxy/47610/croc-blast-spare/v0.2.13\"\n",
    ")\n",
    "# NOTE no pagination needed, there are 295 mint events in the most active pool at the time of writing\n",
    "ambient_pools_query = \"\"\"\n",
    "{\n",
    "  pools(\n",
    "    where: {or: [{base: \"0x20fE91f17ec9080E3caC2d688b4EcB48C5aC3a9C\"}, {quote: \"0x20fE91f17ec9080E3caC2d688b4EcB48C5aC3a9C\"}]}\n",
    "  ) {\n",
    "    id\n",
    "    base\n",
    "    quote\n",
    "    poolIdx\n",
    "    liquidityChanges(first: 1000, where: {changeType: \"mint\"}) {\n",
    "        user\n",
    "        positionType\n",
    "        changeType\n",
    "        bidTick\n",
    "        askTick\n",
    "        isBid\n",
    "    }\n",
    "  }\n",
    "}\n",
    "\"\"\"\n",
    "\n",
    "r = requests.post(ambient_subgraph, json={\"query\": ambient_pools_query}).json()"
   ]
  },
  {
   "cell_type": "code",
   "execution_count": null,
   "id": "e03c7e8c-7365-473a-812d-96085afabe4d",
   "metadata": {},
   "outputs": [
    {
     "data": {
      "text/plain": [
       "308"
      ]
     },
     "execution_count": null,
     "metadata": {},
     "output_type": "execute_result"
    }
   ],
   "source": [
    "AmbientPos = namedtuple(\n",
    "    \"AmbientPos\",\n",
    "    [\n",
    "        \"base\",\n",
    "        \"quote\",\n",
    "        \"index\",\n",
    "        \"user\",\n",
    "        \"pos_type\",\n",
    "        \"bid_tick\",\n",
    "        \"ask_tick\",\n",
    "        \"is_bid\",\n",
    "    ],\n",
    ")\n",
    "ambient_todo = []\n",
    "\n",
    "for pool in r[\"data\"][\"pools\"]:\n",
    "    for change in pool[\"liquidityChanges\"]:\n",
    "        ambient_todo.append(\n",
    "            AmbientPos(\n",
    "                convert(pool[\"base\"], AddressType),\n",
    "                convert(pool[\"quote\"], AddressType),\n",
    "                pool[\"poolIdx\"],\n",
    "                convert(change[\"user\"], AddressType),\n",
    "                change[\"positionType\"],\n",
    "                change[\"bidTick\"],\n",
    "                change[\"askTick\"],\n",
    "                change[\"isBid\"],\n",
    "            )\n",
    "        )\n",
    "\n",
    "ambient_todo = list(unique(ambient_todo))\n",
    "len(ambient_todo)"
   ]
  },
  {
   "cell_type": "code",
   "execution_count": null,
   "id": "ed29485c-1395-4eab-8cd4-21ac81ae90f2",
   "metadata": {},
   "outputs": [],
   "source": [
    "@cache\n",
    "def query_ambient(p: AmbientPos):\n",
    "    match p.pos_type:\n",
    "        case \"concentrated\":\n",
    "            q = croc_query.queryRangeTokens(\n",
    "                p.user,\n",
    "                p.base,\n",
    "                p.quote,\n",
    "                p.index,\n",
    "                p.bid_tick,\n",
    "                p.ask_tick,\n",
    "                **at_snap,\n",
    "            )\n",
    "        case \"knockout\":\n",
    "            pivot_tick = p.bid_tick if p.is_bid else p.ask_tick\n",
    "            pivot_data = croc_query.queryKnockoutPivot(\n",
    "                p.base, p.quote, p.index, p.is_bid, pivot_tick, **at_snap\n",
    "            )\n",
    "            q = croc_query.queryKnockoutTokens(\n",
    "                p.user,\n",
    "                p.base,\n",
    "                p.quote,\n",
    "                p.index,\n",
    "                pivot_data.pivot,\n",
    "                p.is_bid,\n",
    "                p.bid_tick,\n",
    "                p.ask_tick,\n",
    "                **at_snap,\n",
    "            )\n",
    "        case \"ambient\":\n",
    "            q = croc_query.queryAmbientTokens(\n",
    "                p.user, p.base, p.quote, p.index, **at_snap\n",
    "            )\n",
    "        case _:\n",
    "            raise NotImplementedError(p.pos_type)\n",
    "\n",
    "    decimals_base = get_decimals(p.base)\n",
    "    decimals_quote = get_decimals(p.quote)\n",
    "    return [\n",
    "        Result(\n",
    "            source=str(ambient),\n",
    "            protocol=\"ambient\",\n",
    "            user=p.user,\n",
    "            token=p.base,\n",
    "            balance=eth(q.baseQty, decimals_base),\n",
    "        ),\n",
    "        Result(\n",
    "            source=str(ambient),\n",
    "            protocol=\"ambient\",\n",
    "            user=p.user,\n",
    "            token=p.quote,\n",
    "            balance=eth(q.quoteQty, decimals_quote),\n",
    "        ),\n",
    "    ]\n",
    "\n",
    "\n",
    "def is_ambient(a):\n",
    "    return a in [str(ambient)]\n",
    "\n",
    "\n",
    "@cache\n",
    "def unwrap_ambient(a):\n",
    "    balances = parallel(delayed(query_ambient)(p) for p in ambient_todo)\n",
    "    balances = [x for x in concat(balances) if x.balance > 0]\n",
    "    return balances\n",
    "\n",
    "\n",
    "# unwrap_ambient(str(ambient))"
   ]
  },
  {
   "cell_type": "markdown",
   "id": "9db63af5-917b-49b1-b4e4-b72e32ef0a91",
   "metadata": {},
   "source": [
    "### alien\n"
   ]
  },
  {
   "cell_type": "code",
   "execution_count": null,
   "id": "adcea87d-991d-43fd-bd66-974dcef9f30a",
   "metadata": {},
   "outputs": [],
   "source": [
    "alien = \"0x50454acC07bf8fC78100619a1b68e9E8d28cE022\"\n",
    "alien_lens_abi = '[{\"type\":\"function\",\"name\":\"getMarketMetadata\",\"inputs\":[{\"type\":\"address\",\"name\":\"alien\"},{\"type\":\"address\",\"name\":\"market\"}],\"outputs\":[{\"type\":\"tuple\",\"name\":\"\",\"components\":[{\"type\":\"address\",\"name\":\"market\"},{\"type\":\"string\",\"name\":\"marketName\"},{\"type\":\"string\",\"name\":\"marketSymbol\"},{\"type\":\"uint8\",\"name\":\"marketDecimals\"},{\"type\":\"bool\",\"name\":\"isListed\"},{\"type\":\"uint16\",\"name\":\"collateralFactor\"},{\"type\":\"uint16\",\"name\":\"liquidationThreshold\"},{\"type\":\"uint16\",\"name\":\"liquidationBonus\"},{\"type\":\"uint16\",\"name\":\"reserveFactor\"},{\"type\":\"bool\",\"name\":\"isPToken\"},{\"type\":\"bool\",\"name\":\"supplyPaused\"},{\"type\":\"bool\",\"name\":\"borrowPaused\"},{\"type\":\"bool\",\"name\":\"transferPaused\"},{\"type\":\"bool\",\"name\":\"isSoftDelisted\"},{\"type\":\"address\",\"name\":\"aTokenAddress\"},{\"type\":\"address\",\"name\":\"debtTokenAddress\"},{\"type\":\"address\",\"name\":\"interestRateModelAddress\"},{\"type\":\"uint256\",\"name\":\"supplyCap\"},{\"type\":\"uint256\",\"name\":\"borrowCap\"}]}],\"stateMutability\":\"view\"},{\"type\":\"function\",\"name\":\"getAllMarketsMetadata\",\"inputs\":[{\"type\":\"address\",\"name\":\"alien\"}],\"outputs\":[{\"type\":\"tuple[]\",\"name\":\"\",\"components\":[{\"type\":\"address\",\"name\":\"market\"},{\"type\":\"string\",\"name\":\"marketName\"},{\"type\":\"string\",\"name\":\"marketSymbol\"},{\"type\":\"uint8\",\"name\":\"marketDecimals\"},{\"type\":\"bool\",\"name\":\"isListed\"},{\"type\":\"uint16\",\"name\":\"collateralFactor\"},{\"type\":\"uint16\",\"name\":\"liquidationThreshold\"},{\"type\":\"uint16\",\"name\":\"liquidationBonus\"},{\"type\":\"uint16\",\"name\":\"reserveFactor\"},{\"type\":\"bool\",\"name\":\"isPToken\"},{\"type\":\"bool\",\"name\":\"supplyPaused\"},{\"type\":\"bool\",\"name\":\"borrowPaused\"},{\"type\":\"bool\",\"name\":\"transferPaused\"},{\"type\":\"bool\",\"name\":\"isSoftDelisted\"},{\"type\":\"address\",\"name\":\"aTokenAddress\"},{\"type\":\"address\",\"name\":\"debtTokenAddress\"},{\"type\":\"address\",\"name\":\"interestRateModelAddress\"},{\"type\":\"uint256\",\"name\":\"supplyCap\"},{\"type\":\"uint256\",\"name\":\"borrowCap\"}]}],\"stateMutability\":\"view\"},{\"type\":\"function\",\"name\":\"getCurrentMarketStatus\",\"inputs\":[{\"type\":\"address\",\"name\":\"alien\"},{\"type\":\"address\",\"name\":\"market\"}],\"outputs\":[{\"type\":\"tuple\",\"name\":\"\",\"components\":[{\"type\":\"address\",\"name\":\"market\"},{\"type\":\"uint256\",\"name\":\"totalCash\"},{\"type\":\"uint256\",\"name\":\"totalBorrow\"},{\"type\":\"uint256\",\"name\":\"totalSupply\"},{\"type\":\"uint256\",\"name\":\"totalReserves\"},{\"type\":\"uint256\",\"name\":\"maxSupplyAmount\"},{\"type\":\"uint256\",\"name\":\"maxBorrowAmount\"},{\"type\":\"uint256\",\"name\":\"marketPrice\"},{\"type\":\"uint256\",\"name\":\"exchangeRate\"},{\"type\":\"uint256\",\"name\":\"supplyRate\"},{\"type\":\"uint256\",\"name\":\"borrowRate\"}]}],\"stateMutability\":\"nonpayable\"},{\"type\":\"function\",\"name\":\"getAllMarketsStatus\",\"inputs\":[{\"type\":\"address\",\"name\":\"alien\"}],\"outputs\":[{\"type\":\"tuple[]\",\"name\":\"\",\"components\":[{\"type\":\"address\",\"name\":\"market\"},{\"type\":\"uint256\",\"name\":\"totalCash\"},{\"type\":\"uint256\",\"name\":\"totalBorrow\"},{\"type\":\"uint256\",\"name\":\"totalSupply\"},{\"type\":\"uint256\",\"name\":\"totalReserves\"},{\"type\":\"uint256\",\"name\":\"maxSupplyAmount\"},{\"type\":\"uint256\",\"name\":\"maxBorrowAmount\"},{\"type\":\"uint256\",\"name\":\"marketPrice\"},{\"type\":\"uint256\",\"name\":\"exchangeRate\"},{\"type\":\"uint256\",\"name\":\"supplyRate\"},{\"type\":\"uint256\",\"name\":\"borrowRate\"}]}],\"stateMutability\":\"view\"},{\"type\":\"function\",\"name\":\"getAllCurrentMarketsStatus\",\"inputs\":[{\"type\":\"address\",\"name\":\"alien\"}],\"outputs\":[{\"type\":\"tuple[]\",\"name\":\"\",\"components\":[{\"type\":\"address\",\"name\":\"market\"},{\"type\":\"uint256\",\"name\":\"totalCash\"},{\"type\":\"uint256\",\"name\":\"totalBorrow\"},{\"type\":\"uint256\",\"name\":\"totalSupply\"},{\"type\":\"uint256\",\"name\":\"totalReserves\"},{\"type\":\"uint256\",\"name\":\"maxSupplyAmount\"},{\"type\":\"uint256\",\"name\":\"maxBorrowAmount\"},{\"type\":\"uint256\",\"name\":\"marketPrice\"},{\"type\":\"uint256\",\"name\":\"exchangeRate\"},{\"type\":\"uint256\",\"name\":\"supplyRate\"},{\"type\":\"uint256\",\"name\":\"borrowRate\"}]}],\"stateMutability\":\"nonpayable\"},{\"type\":\"function\",\"name\":\"getUserMarketStatus\",\"inputs\":[{\"type\":\"address\",\"name\":\"alien\"},{\"type\":\"address\",\"name\":\"user\"},{\"type\":\"address\",\"name\":\"market\"}],\"outputs\":[{\"type\":\"tuple\",\"name\":\"\",\"components\":[{\"type\":\"address\",\"name\":\"market\"},{\"type\":\"uint256\",\"name\":\"balance\"},{\"type\":\"uint256\",\"name\":\"allowanceToAlien\"},{\"type\":\"uint256\",\"name\":\"exchangeRate\"},{\"type\":\"uint256\",\"name\":\"aTokenBalance\"},{\"type\":\"uint256\",\"name\":\"supplyBalance\"},{\"type\":\"uint256\",\"name\":\"borrowBalance\"}]}],\"stateMutability\":\"view\"},{\"type\":\"function\",\"name\":\"getCurrentUserMarketStatus\",\"inputs\":[{\"type\":\"address\",\"name\":\"alien\"},{\"type\":\"address\",\"name\":\"user\"},{\"type\":\"address\",\"name\":\"market\"}],\"outputs\":[{\"type\":\"tuple\",\"name\":\"\",\"components\":[{\"type\":\"address\",\"name\":\"market\"},{\"type\":\"uint256\",\"name\":\"balance\"},{\"type\":\"uint256\",\"name\":\"allowanceToAlien\"},{\"type\":\"uint256\",\"name\":\"exchangeRate\"},{\"type\":\"uint256\",\"name\":\"aTokenBalance\"},{\"type\":\"uint256\",\"name\":\"supplyBalance\"},{\"type\":\"uint256\",\"name\":\"borrowBalance\"}]}],\"stateMutability\":\"nonpayable\"},{\"type\":\"function\",\"name\":\"getUserAllMarketsStatus\",\"inputs\":[{\"type\":\"address\",\"name\":\"alien\"},{\"type\":\"address\",\"name\":\"user\"}],\"outputs\":[{\"type\":\"tuple[]\",\"name\":\"\",\"components\":[{\"type\":\"address\",\"name\":\"market\"},{\"type\":\"uint256\",\"name\":\"balance\"},{\"type\":\"uint256\",\"name\":\"allowanceToAlien\"},{\"type\":\"uint256\",\"name\":\"exchangeRate\"},{\"type\":\"uint256\",\"name\":\"aTokenBalance\"},{\"type\":\"uint256\",\"name\":\"supplyBalance\"},{\"type\":\"uint256\",\"name\":\"borrowBalance\"}]}],\"stateMutability\":\"view\"},{\"type\":\"function\",\"name\":\"getUserAllCurrentMarketsStatus\",\"inputs\":[{\"type\":\"address\",\"name\":\"alien\"},{\"type\":\"address\",\"name\":\"user\"}],\"outputs\":[{\"type\":\"tuple[]\",\"name\":\"\",\"components\":[{\"type\":\"address\",\"name\":\"market\"},{\"type\":\"uint256\",\"name\":\"balance\"},{\"type\":\"uint256\",\"name\":\"allowanceToAlien\"},{\"type\":\"uint256\",\"name\":\"exchangeRate\"},{\"type\":\"uint256\",\"name\":\"aTokenBalance\"},{\"type\":\"uint256\",\"name\":\"supplyBalance\"},{\"type\":\"uint256\",\"name\":\"borrowBalance\"}]}],\"stateMutability\":\"nonpayable\"}]'\n",
    "alien_lens = Contract(\"0xF090b119b10FE4aF048B3EAEB9c0d4821CaBcD30\", abi=alien_lens_abi)\n",
    "\n",
    "\n",
    "def is_alien(a):\n",
    "    return a in [alien]\n",
    "\n",
    "\n",
    "def unwrap_alien(a):\n",
    "    alien_status = alien_lens.getCurrentMarketStatus.call(alien, yes, **at_snap)\n",
    "    alien_meta = alien_lens.getMarketMetadata(alien, yes, **at_snap)\n",
    "    alien_yes = Contract(alien_meta.aTokenAddress)\n",
    "    alien_yes_transfers = fetch_logs(str(alien_yes), \"Transfer\", desc=\"alien transfers\")\n",
    "    alien_balances = transfers_to_balances(alien_yes_transfers)\n",
    "    return [\n",
    "        Result(\n",
    "            source=alien,\n",
    "            protocol=\"alien\",\n",
    "            user=user,\n",
    "            token=str(yes),\n",
    "            balance=eth(balance / alien_status.totalSupply * alien_status.totalCash),\n",
    "        )\n",
    "        for user, balance in alien_balances.items()\n",
    "    ]\n",
    "\n",
    "\n",
    "# unwrap_alien('0x50454acC07bf8fC78100619a1b68e9E8d28cE022')"
   ]
  },
  {
   "cell_type": "markdown",
   "id": "607994f7-6751-4cc3-bc5e-353c1fd4533c",
   "metadata": {},
   "source": [
    "### ajna\n"
   ]
  },
  {
   "cell_type": "code",
   "execution_count": null,
   "id": "baa04fea-1bda-4325-839d-7e1eef066594",
   "metadata": {},
   "outputs": [],
   "source": [
    "@cache\n",
    "def get_ajna_events(a):\n",
    "    event_names = [\n",
    "        \"AddQuoteToken\",\n",
    "        \"MoveQuoteToken\",\n",
    "        \"RemoveQuoteToken\",\n",
    "        \"RemoveCollateral\",\n",
    "        \"TransferLP\",\n",
    "    ]\n",
    "    ajna = Contract(a)\n",
    "    ajna_logs = [\n",
    "        fetch_logs(str(ajna), event_name, desc=f\"ajna {event_name}\")\n",
    "        for event_name in event_names\n",
    "    ]\n",
    "    ajna_events = sorted(concat(ajna_logs), key=lambda x: (x.block_number, x.log_index))\n",
    "    return ajna_events"
   ]
  },
  {
   "cell_type": "code",
   "execution_count": null,
   "id": "f40cf03e-59b5-4751-b114-d4e323cc355e",
   "metadata": {},
   "outputs": [],
   "source": [
    "def is_ajna(a):\n",
    "    return a in [\"0x1ca093924a6d719fd9Da27d42fAb83aBdAef6d95\"]\n",
    "\n",
    "\n",
    "def unwrap_ajna(a):\n",
    "    ajna_events = get_ajna_events(a)\n",
    "    ajna_lenders = {}\n",
    "    for e in ajna_events:\n",
    "        match e.event_name:\n",
    "            case \"AddQuoteToken\":\n",
    "                ajna_lenders[e[\"lender\"]] = {\n",
    "                    \"index\": e[\"index\"],\n",
    "                    \"amount\": e[\"amount\"],\n",
    "                    \"lp\": e[\"lpAwarded\"],\n",
    "                }\n",
    "            case \"MoveQuoteToken\":\n",
    "                ajna_lenders[e[\"lender\"]] = {\n",
    "                    \"index\": e[\"to\"],\n",
    "                    \"amount\": e[\"amount\"],\n",
    "                    \"lp\": e[\"lpAwardedTo\"],\n",
    "                }\n",
    "            case \"TransferLP\":\n",
    "                assert (\n",
    "                    e[\"lp\"] == ajna_lenders[e[\"owner\"]][\"lp\"]\n",
    "                ), \"partial transfers not implemented\"\n",
    "                ajna_lenders[e[\"newOwner\"]] = ajna_lenders.pop(e[\"owner\"])\n",
    "            case _:\n",
    "                raise NotImplementedError()\n",
    "\n",
    "    cash = spot_balances[a]\n",
    "    total = sum(x[\"amount\"] for x in ajna_lenders.values())\n",
    "    return [\n",
    "        Result(\n",
    "            source=a,\n",
    "            protocol=\"ajna\",\n",
    "            user=user,\n",
    "            token=str(yes),\n",
    "            balance=eth(data[\"amount\"] / total * cash),\n",
    "        )\n",
    "        for user, data in ajna_lenders.items()\n",
    "    ]\n",
    "\n",
    "\n",
    "# unwrap_ajna('0x1ca093924a6d719fd9Da27d42fAb83aBdAef6d95')"
   ]
  },
  {
   "cell_type": "markdown",
   "id": "d1b426d8-bb5e-442e-ac80-00fc6335acca",
   "metadata": {},
   "source": [
    "### wasabi\n"
   ]
  },
  {
   "cell_type": "code",
   "execution_count": null,
   "id": "1ae2ffd2",
   "metadata": {},
   "outputs": [],
   "source": [
    "def unwrap_erc4626(addr, protocol=\"erc4626\"):\n",
    "    transfers = fetch_logs(addr, \"Transfer\", desc=\"erc4626 transfers\")\n",
    "    balances = transfers_to_balances(transfers)\n",
    "    vault = Contract(addr)\n",
    "    total_supply = vault.totalSupply(**at_snap)\n",
    "    total_assets = vault.totalAssets(**at_snap)\n",
    "    assert sum(balances.values()) == total_supply, \"supply mismatch\"\n",
    "    asset = vault.asset(**at_snap)\n",
    "    return [\n",
    "        Result(\n",
    "            source=addr,\n",
    "            protocol=protocol,\n",
    "            user=user,\n",
    "            token=asset,\n",
    "            balance=eth(balance / total_supply * total_assets),\n",
    "        )\n",
    "        for user, balance in balances.items()\n",
    "    ]\n",
    "\n",
    "\n",
    "# unwrap_erc4626(str(vault))"
   ]
  },
  {
   "cell_type": "code",
   "execution_count": null,
   "id": "970b7afc-ea2a-4972-8b04-2db9865e1150",
   "metadata": {},
   "outputs": [],
   "source": [
    "wasabi_pools = {\n",
    "    \"0x046299143A880C4d01a318Bc6C9f2C0A5C1Ed355\": \"WasabiLongPool\",\n",
    "    \"0x0301079DaBdC9A2c70b856B2C51ACa02bAc10c3a\": \"WasabiShortPool\",\n",
    "}\n",
    "\n",
    "\n",
    "def is_wasabi(a):\n",
    "    return a in wasabi_pools\n",
    "\n",
    "\n",
    "def unwrap_wasabi(a):\n",
    "    is_long = wasabi_pools[a] == \"WasabiLongPool\"\n",
    "    logs = fetch_logs(str(a), \"PositionOpened\", desc=\"wasabi positions\")\n",
    "    wasabi = Contract(a)\n",
    "    try:\n",
    "        vault = wasabi.getVault(str(yes))\n",
    "    except ContractLogicError:\n",
    "        vault = None\n",
    "\n",
    "    currency = \"collateralCurrency\" if is_long else \"currency\"\n",
    "    positions = [x for x in logs if x[currency] == str(yes)]\n",
    "    position_ids = [log[\"positionId\"] for log in positions]\n",
    "\n",
    "    hashes = multicall(str(wasabi), \"positions\", position_ids, desc=\"wasabi active\")\n",
    "    # zero hash means a posititon is inactive\n",
    "    active_positions = [\n",
    "        pos for pos, hashed in zip(positions, hashes) if sum(list(hashed))\n",
    "    ]\n",
    "    amount_field = \"collateralAmount\" if is_long else \"principal\"\n",
    "    total = sum(p[amount_field] for p in active_positions)\n",
    "    results = [\n",
    "        Result(\n",
    "            source=a,\n",
    "            protocol=\"wasabi\",\n",
    "            user=p[\"trader\"],\n",
    "            token=p[currency],\n",
    "            balance=eth(p[amount_field] / total * spot_balances[a]),\n",
    "        )\n",
    "        for p in active_positions\n",
    "    ]\n",
    "    if vault is not None:\n",
    "        results.extend(unwrap_erc4626(vault, protocol='wasabi-vault'))\n",
    "\n",
    "    return results\n",
    "\n",
    "\n",
    "# for p in wasabi_pools:\n",
    "#     print(unwrap_wasabi(p))"
   ]
  },
  {
   "cell_type": "markdown",
   "id": "199df5e8-a11b-4dee-bdf3-82acf7bbdc54",
   "metadata": {},
   "source": [
    "### generic erc20\n"
   ]
  },
  {
   "cell_type": "code",
   "execution_count": null,
   "id": "0b307c6c",
   "metadata": {},
   "outputs": [],
   "source": [
    "def unwrap_erc20(\n",
    "    addr, protocol=\"generic_erc20\", spot_addr=None, zero_address=ZERO_ADDRESS\n",
    "):\n",
    "    if spot_addr is None:\n",
    "        spot_addr = addr\n",
    "    token = Contract(addr, contract_type=yes.contract_type)\n",
    "    transfers = fetch_logs(addr, \"Transfer\", desc=\"erc20 transfers\")\n",
    "    balances = transfers_to_balances(transfers, zero_address=zero_address)\n",
    "    total_supply = token.totalSupply(**at_snap)\n",
    "    if total_supply != sum(balances.values()):\n",
    "        print(\n",
    "            f\"warn: supply mismatch. token possibly misses a transfer event on mint/burn. {addr=}\"\n",
    "        )\n",
    "    return [\n",
    "        Result(\n",
    "            source=addr,\n",
    "            protocol=protocol,\n",
    "            user=user,\n",
    "            token=str(yes),\n",
    "            balance=eth(balance / total_supply * spot_balances[spot_addr]),\n",
    "        )\n",
    "        for user, balance in balances.items()\n",
    "    ]"
   ]
  },
  {
   "cell_type": "markdown",
   "id": "5faa70dd",
   "metadata": {},
   "source": [
    "### roguex\n"
   ]
  },
  {
   "cell_type": "code",
   "execution_count": null,
   "id": "694ea7aa-4665-4b24-8a23-c154a5674c21",
   "metadata": {},
   "outputs": [],
   "source": [
    "def is_roguex(a):\n",
    "    return a == \"0x30a4D6BB45C96ac1827F6eBCFA6144E5BC0775DC\"\n",
    "\n",
    "\n",
    "def unwrap_roguex(a):\n",
    "    assert is_roguex(a)\n",
    "    return unwrap_erc20(\n",
    "        \"0x13b432716e3Ee280BEeBc8F230EdF4e51C7D180B\",\n",
    "        protocol=\"roguex\",\n",
    "        spot_addr=\"0x30a4D6BB45C96ac1827F6eBCFA6144E5BC0775DC\",\n",
    "    )"
   ]
  },
  {
   "cell_type": "markdown",
   "id": "2f1617b1",
   "metadata": {},
   "source": [
    "### few\n"
   ]
  },
  {
   "cell_type": "code",
   "execution_count": null,
   "id": "a3df2310",
   "metadata": {},
   "outputs": [],
   "source": [
    "def is_few(a):\n",
    "    return a == \"0x9B96F74a2798C31B7C87A82e4D224951cf514d24\"\n",
    "\n",
    "\n",
    "def unwrap_few(a):\n",
    "    return unwrap_erc20(\"0x9B96F74a2798C31B7C87A82e4D224951cf514d24\", protocol=\"few\")"
   ]
  },
  {
   "cell_type": "markdown",
   "id": "8ef4d209",
   "metadata": {},
   "source": [
    "### maybe\n"
   ]
  },
  {
   "cell_type": "code",
   "execution_count": null,
   "id": "933e9b41",
   "metadata": {},
   "outputs": [],
   "source": [
    "maybe = \"0x4485A08DB1fdbdd6Fea0BF5b8bB95F54e0ff5E9A\"\n",
    "\n",
    "\n",
    "def is_maybe(a):\n",
    "    return a == maybe\n",
    "\n",
    "\n",
    "def unwrap_maybe(a):\n",
    "    return unwrap_erc20(maybe, protocol=\"maybe\", zero_address=maybe)"
   ]
  },
  {
   "cell_type": "markdown",
   "id": "12db01a9",
   "metadata": {},
   "source": [
    "### unknown contracts with owner\n"
   ]
  },
  {
   "cell_type": "code",
   "execution_count": null,
   "id": "49dd680e",
   "metadata": {},
   "outputs": [],
   "source": [
    "owner_call = MethodABI(\n",
    "    type=\"function\",\n",
    "    name=\"owner\",\n",
    "    stateMutability=\"view\",\n",
    "    inputs=[],\n",
    "    outputs=[ABIType(type=\"address\")],\n",
    ")\n",
    "\n",
    "\n",
    "@cache\n",
    "def get_owner(addr):\n",
    "    try:\n",
    "        owner = ContractCall(owner_call, addr)()\n",
    "        if owner == ZERO_ADDRESS:\n",
    "            return None\n",
    "        return owner\n",
    "    except (ContractLogicError, VirtualMachineError):\n",
    "        return None\n",
    "\n",
    "\n",
    "def unwrap_owner(addr):\n",
    "    owner = get_owner(addr)\n",
    "    assert owner is not None\n",
    "    return Result(\n",
    "        source=addr,\n",
    "        protocol=\"generic_contract_owner\",\n",
    "        user=owner,\n",
    "        token=str(yes),\n",
    "        balance=eth(spot_balances[addr]),\n",
    "    )"
   ]
  },
  {
   "cell_type": "markdown",
   "id": "d0e2bbb3-4935-4189-8491-95eda7f9c1d6",
   "metadata": {},
   "source": [
    "## piece it all together\n"
   ]
  },
  {
   "cell_type": "code",
   "execution_count": null,
   "id": "0f302577-fc63-4961-b20e-058280ad2681",
   "metadata": {},
   "outputs": [],
   "source": [
    "excluded = {\n",
    "    \"0x60BF64CCAa52da304d456892dC0A8f1C5B159f61\": \"pre_asset (unclaimed yes presale)\",\n",
    "    \"0x121B5ac4De4a3E6F4171956BC26ceda40Cb61a56\": \"particle (unwrapped in thruster v3 nft handler)\",\n",
    "    \"0x07964f135f276412b3182a3B2407b8dd45000000\": \"transitswap router (collects protocol fees)\",\n",
    "    \"0x13b432716e3Ee280BEeBc8F230EdF4e51C7D180B\": \"roguex lp (we use it when unwrapping roguex)\",\n",
    "    \"0x20fE91f17ec9080E3caC2d688b4EcB48C5aC3a9C\": \"yes token (burned)\",\n",
    "    \"0x84242b44131378e0D355902f80fbbeC0d4A40eA1\": \"some rewards distributor\",\n",
    "}\n",
    "manually_mapped = {\n",
    "    \"0xA635149ecE0FbF3B7cf3453D3c015a1F8c23D2DC\": \"0x5D58EDC7a7C91239Ec2FD56a646679780886323c\",\n",
    "}\n",
    "\n",
    "\n",
    "def unwrap_contracts(a):\n",
    "    if is_thruster_v2_lp(a):\n",
    "        return unwrap_thruster_v2_lp(a)\n",
    "    elif is_thruster_v3_pool(a):\n",
    "        return unwrap_thruster_v3_pool(a)\n",
    "    elif is_baseline(a):\n",
    "        return unwrap_baseline(a)\n",
    "    elif is_ambient(a):\n",
    "        return unwrap_ambient(a)\n",
    "    elif is_alien(a):\n",
    "        return unwrap_alien(a)\n",
    "    elif is_ajna(a):\n",
    "        return unwrap_ajna(a)\n",
    "    elif is_wasabi(a):\n",
    "        return unwrap_wasabi(a)\n",
    "    elif is_gnosis_safe(a):\n",
    "        return unwrap_gnosis_safe(a)\n",
    "    elif is_roguex(a):\n",
    "        return unwrap_roguex(a)\n",
    "    elif is_few(a):\n",
    "        return unwrap_few(a)\n",
    "    elif is_maybe(a):\n",
    "        return unwrap_maybe(a)\n",
    "    elif a in excluded:\n",
    "        return []\n",
    "    elif a in manually_mapped:\n",
    "        return Result(\n",
    "            source=a,\n",
    "            protocol=\"manually_mapped\",\n",
    "            user=manually_mapped[a],\n",
    "            token=str(yes),\n",
    "            balance=eth(spot_balances[a]),\n",
    "        )\n",
    "    elif get_owner(a):\n",
    "        res = unwrap_owner(a)\n",
    "        print(f\"warn: unwrapping {a} to owner {res.user} ({res.balance:,.2f} yes)\")\n",
    "        return res\n",
    "    else:\n",
    "        return Result(\n",
    "            source=a,\n",
    "            protocol=None,\n",
    "            user=a,\n",
    "            token=str(yes),\n",
    "            balance=eth(spot_balances[a]),\n",
    "        )"
   ]
  },
  {
   "cell_type": "markdown",
   "id": "2b32aeb9",
   "metadata": {},
   "source": [
    "### double unwrap contracts\n",
    "\n",
    "sometimes when unwrapping things like lps, we end up with contract owners.\n",
    "this step ensures we identify ultimate beneficiary owners of all of them and leave no token unclaimable.\n"
   ]
  },
  {
   "cell_type": "code",
   "execution_count": null,
   "id": "5de42bfc",
   "metadata": {},
   "outputs": [],
   "source": [
    "manually_double_mapped = {\n",
    "    \"0xD40e84a8204aeA3Af36F692F639b195B4750742F\": \"0x0eA05C8b55DE589F984839D7657da24507720A25\",  # few -> ring v2\n",
    "    \"0xA92e68BaaCbFe69de860689b7902adfe9E0F514c\": \"0xe54c30aBDA52b7d279c05cE9f68782b3871d1F98\",  # few -> ring v2\n",
    "}\n",
    "\n",
    "\n",
    "def double_unwrap_contracts():\n",
    "    results = []\n",
    "    for a in tqdm(spot_contracts):\n",
    "        res = unwrap_contracts(a)\n",
    "        if isinstance(res, Result):\n",
    "            res = []\n",
    "        for row in res:\n",
    "            code = get_code(row.user)\n",
    "            if code and not is_gnosis_safe(row.user):\n",
    "                owner = get_owner(row.user) or manually_double_mapped.get(row.user)\n",
    "                if owner:\n",
    "                    print(f\"fixed owner {row.user} -> {owner}\")\n",
    "                    row.user = owner\n",
    "                else:\n",
    "                    print(\"no fix\", row)\n",
    "\n",
    "            results.append(row)\n",
    "\n",
    "    return results"
   ]
  },
  {
   "cell_type": "markdown",
   "id": "22e9df2f",
   "metadata": {},
   "source": [
    "### team snapshot\n"
   ]
  },
  {
   "cell_type": "code",
   "execution_count": null,
   "id": "45ce9c68",
   "metadata": {},
   "outputs": [],
   "source": [
    "TEAM_WALLETS = [\n",
    "    \"0x8044f710c58B6eA6a178CC540f9F1Cd758F7d1B2\",\n",
    "    \"0xd271dbA437a363800eb9D8B6479216490BEac97D\",\n",
    "    \"0xD7cD8AB6b86aF09a870e0EeAa46665e546c03A70\",\n",
    "    \"0x2e742a101818dc93e8677237cECe03A7023D3935\",\n",
    "    \"0xbc965428d8d7DBc399EF524Fb6eFa014Dee3afE8\",\n",
    "    \"0x36125234DD6c7D0A01dcadC67E79e061D405098e\",\n",
    "    \"0xd2FB4d5A11c1e63d910D2A9782d23e63fa369c84\",\n",
    "    \"0x816572461D077EBC59165a77e486e9a23495CC9a\",\n",
    "    \"0x959aC49B4eebAe995a9b735275fdDae8e11859C7\",\n",
    "    \"0xEb1540094eE6c3A7946A45Be686ec9cdF13106a9\",\n",
    "    \"0xd1BB2B2871730BC8EF4D86764148C8975b22ce1E\",\n",
    "    \"0x37B3492a6F3EfC6A85FCd1C0f221B10EF17Ca76B\",\n",
    "    \"0xA984cAD1178972511e18B6B8F4a6BFcE48b9AF62\",\n",
    "    \"0x035235999Ac9c80542E7Dcaa22807c8559cb3325\",\n",
    "    \"0xEC541890B1b230945112C317125d5D0a3b699c77\",\n",
    "    \"0x9C5B9dDBC569A9Bde3D15196E036CBc7A10C50E8\",\n",
    "]\n",
    "\n",
    "\n",
    "def unwrap_team():\n",
    "    # snapshot one block prior to yev operation\n",
    "    balances = multicall(str(yes), \"balanceOf\", TEAM_WALLETS, at=snapshot_block - 1)\n",
    "    team_spot = [\n",
    "        Result(\n",
    "            source=user,\n",
    "            protocol=\"team-spot\",\n",
    "            user=user,\n",
    "            token=str(yes),\n",
    "            balance=eth(balance),\n",
    "        )\n",
    "        for user, balance in zip(TEAM_WALLETS, balances)\n",
    "        if balance > 0\n",
    "    ]\n",
    "\n",
    "    # snapshot one block prior to yev operation\n",
    "    # NOTE no need to exclude elsewhere because these accounts were zeroed out after yev\n",
    "    credits = multicall(\n",
    "        str(baseline), \"getCreditAccount\", TEAM_WALLETS, at=snapshot_block - 1\n",
    "    )\n",
    "    team_credit = [\n",
    "        Result(\n",
    "            source=user,\n",
    "            protocol=\"team-credit\",\n",
    "            user=user,\n",
    "            token=str(yes),\n",
    "            balance=eth(credit.collateral),\n",
    "        )\n",
    "        for user, credit in zip(TEAM_WALLETS, credits)\n",
    "        if credit.expiry > 0\n",
    "    ]\n",
    "    return team_spot + team_credit\n",
    "\n",
    "\n",
    "# unwrap_team()"
   ]
  },
  {
   "cell_type": "markdown",
   "id": "d5046a87-66e5-4d6e-b1e5-05fb795f6897",
   "metadata": {},
   "source": [
    "# make the snapshot\n"
   ]
  },
  {
   "cell_type": "code",
   "execution_count": null,
   "id": "652d007f",
   "metadata": {},
   "outputs": [
    {
     "data": {
      "application/vnd.jupyter.widget-view+json": {
       "model_id": "dc44b0c4b0d04e13be0199e97d7c7909",
       "version_major": 2,
       "version_minor": 0
      },
      "text/plain": [
       "  0%|          | 0/47 [00:00<?, ?it/s]"
      ]
     },
     "metadata": {},
     "output_type": "display_data"
    },
    {
     "data": {
      "text/html": [
       "<pre style=\"white-space:pre;overflow-x:auto;line-height:normal;font-family:Menlo,'DejaVu Sans Mono',consolas,'Courier New',monospace\">fixed owner <span style=\"color: #008080; text-decoration-color: #008080; font-weight: bold\">0xFA50bc65BebDFF536e64e2cb19639abf63a2B43A</span> -&gt; <span style=\"color: #008080; text-decoration-color: #008080; font-weight: bold\">0x44a8513Ad56d7F094a548aA50C6B6f845b0d90d0</span>\n",
       "</pre>\n"
      ],
      "text/plain": [
       "fixed owner \u001b[1;36m0xFA50bc65BebDFF536e64e2cb19639abf63a2B43A\u001b[0m -> \u001b[1;36m0x44a8513Ad56d7F094a548aA50C6B6f845b0d90d0\u001b[0m\n"
      ]
     },
     "metadata": {},
     "output_type": "display_data"
    },
    {
     "data": {
      "text/html": [
       "<pre style=\"white-space:pre;overflow-x:auto;line-height:normal;font-family:Menlo,'DejaVu Sans Mono',consolas,'Courier New',monospace\">fixed owner <span style=\"color: #008080; text-decoration-color: #008080; font-weight: bold\">0xFA50bc65BebDFF536e64e2cb19639abf63a2B43A</span> -&gt; <span style=\"color: #008080; text-decoration-color: #008080; font-weight: bold\">0x44a8513Ad56d7F094a548aA50C6B6f845b0d90d0</span>\n",
       "</pre>\n"
      ],
      "text/plain": [
       "fixed owner \u001b[1;36m0xFA50bc65BebDFF536e64e2cb19639abf63a2B43A\u001b[0m -> \u001b[1;36m0x44a8513Ad56d7F094a548aA50C6B6f845b0d90d0\u001b[0m\n"
      ]
     },
     "metadata": {},
     "output_type": "display_data"
    },
    {
     "data": {
      "text/html": [
       "<pre style=\"white-space:pre;overflow-x:auto;line-height:normal;font-family:Menlo,'DejaVu Sans Mono',consolas,'Courier New',monospace\">warn: unwrapping <span style=\"color: #008080; text-decoration-color: #008080; font-weight: bold\">0x19813C1F93996e08b2151bEDeDD4f86555dcd401</span> to owner <span style=\"color: #008080; text-decoration-color: #008080; font-weight: bold\">0xA942E4d775554B88e7f25f9924b81a861617e6B6</span> \n",
       "<span style=\"font-weight: bold\">(</span><span style=\"color: #008080; text-decoration-color: #008080; font-weight: bold\">20.80</span> yes<span style=\"font-weight: bold\">)</span>\n",
       "</pre>\n"
      ],
      "text/plain": [
       "warn: unwrapping \u001b[1;36m0x19813C1F93996e08b2151bEDeDD4f86555dcd401\u001b[0m to owner \u001b[1;36m0xA942E4d775554B88e7f25f9924b81a861617e6B6\u001b[0m \n",
       "\u001b[1m(\u001b[0m\u001b[1;36m20.80\u001b[0m yes\u001b[1m)\u001b[0m\n"
      ]
     },
     "metadata": {},
     "output_type": "display_data"
    },
    {
     "data": {
      "text/html": [
       "<pre style=\"white-space:pre;overflow-x:auto;line-height:normal;font-family:Menlo,'DejaVu Sans Mono',consolas,'Courier New',monospace\">warn: unwrapping <span style=\"color: #008080; text-decoration-color: #008080; font-weight: bold\">0x662267CaA600d9f284356075C3504E78408A819B</span> to owner <span style=\"color: #008080; text-decoration-color: #008080; font-weight: bold\">0x8792122Ce00f815b7bCf8e26D0B58eDdc961d35D</span> \n",
       "<span style=\"font-weight: bold\">(</span><span style=\"color: #008080; text-decoration-color: #008080; font-weight: bold\">1.11</span> yes<span style=\"font-weight: bold\">)</span>\n",
       "</pre>\n"
      ],
      "text/plain": [
       "warn: unwrapping \u001b[1;36m0x662267CaA600d9f284356075C3504E78408A819B\u001b[0m to owner \u001b[1;36m0x8792122Ce00f815b7bCf8e26D0B58eDdc961d35D\u001b[0m \n",
       "\u001b[1m(\u001b[0m\u001b[1;36m1.11\u001b[0m yes\u001b[1m)\u001b[0m\n"
      ]
     },
     "metadata": {},
     "output_type": "display_data"
    },
    {
     "data": {
      "text/html": [
       "<pre style=\"white-space:pre;overflow-x:auto;line-height:normal;font-family:Menlo,'DejaVu Sans Mono',consolas,'Courier New',monospace\">fixed owner <span style=\"color: #008080; text-decoration-color: #008080; font-weight: bold\">0xD40e84a8204aeA3Af36F692F639b195B4750742F</span> -&gt; <span style=\"color: #008080; text-decoration-color: #008080; font-weight: bold\">0x0eA05C8b55DE589F984839D7657da24507720A25</span>\n",
       "</pre>\n"
      ],
      "text/plain": [
       "fixed owner \u001b[1;36m0xD40e84a8204aeA3Af36F692F639b195B4750742F\u001b[0m -> \u001b[1;36m0x0eA05C8b55DE589F984839D7657da24507720A25\u001b[0m\n"
      ]
     },
     "metadata": {},
     "output_type": "display_data"
    },
    {
     "data": {
      "text/html": [
       "<pre style=\"white-space:pre;overflow-x:auto;line-height:normal;font-family:Menlo,'DejaVu Sans Mono',consolas,'Courier New',monospace\">fixed owner <span style=\"color: #008080; text-decoration-color: #008080; font-weight: bold\">0xA92e68BaaCbFe69de860689b7902adfe9E0F514c</span> -&gt; <span style=\"color: #008080; text-decoration-color: #008080; font-weight: bold\">0xe54c30aBDA52b7d279c05cE9f68782b3871d1F98</span>\n",
       "</pre>\n"
      ],
      "text/plain": [
       "fixed owner \u001b[1;36m0xA92e68BaaCbFe69de860689b7902adfe9E0F514c\u001b[0m -> \u001b[1;36m0xe54c30aBDA52b7d279c05cE9f68782b3871d1F98\u001b[0m\n"
      ]
     },
     "metadata": {},
     "output_type": "display_data"
    },
    {
     "data": {
      "text/html": [
       "<pre style=\"white-space:pre;overflow-x:auto;line-height:normal;font-family:Menlo,'DejaVu Sans Mono',consolas,'Courier New',monospace\">warn: unwrapping <span style=\"color: #008080; text-decoration-color: #008080; font-weight: bold\">0xa177c6c4a36DbBAF97517Ac2FC092b6580aD9e49</span> to owner <span style=\"color: #008080; text-decoration-color: #008080; font-weight: bold\">0xFd63Bf84471Bc55DD9A83fdFA293CCBD27e1F4C8</span> \n",
       "<span style=\"font-weight: bold\">(</span><span style=\"color: #008080; text-decoration-color: #008080; font-weight: bold\">2</span>,<span style=\"color: #008080; text-decoration-color: #008080; font-weight: bold\">848.68</span> yes<span style=\"font-weight: bold\">)</span>\n",
       "</pre>\n"
      ],
      "text/plain": [
       "warn: unwrapping \u001b[1;36m0xa177c6c4a36DbBAF97517Ac2FC092b6580aD9e49\u001b[0m to owner \u001b[1;36m0xFd63Bf84471Bc55DD9A83fdFA293CCBD27e1F4C8\u001b[0m \n",
       "\u001b[1m(\u001b[0m\u001b[1;36m2\u001b[0m,\u001b[1;36m848.68\u001b[0m yes\u001b[1m)\u001b[0m\n"
      ]
     },
     "metadata": {},
     "output_type": "display_data"
    }
   ],
   "source": [
    "def make_snapshot():\n",
    "    results = []\n",
    "    for user, balance in spot_balances.items():\n",
    "        if user in spot_contracts or user in TEAM_WALLETS:\n",
    "            continue\n",
    "        results.append(\n",
    "            Result(\n",
    "                source=user,\n",
    "                protocol=\"spot\",\n",
    "                user=user,\n",
    "                token=str(yes),\n",
    "                balance=eth(balance),\n",
    "            )\n",
    "        )\n",
    "\n",
    "    results.extend(double_unwrap_contracts())\n",
    "    results.extend(unwrap_team())\n",
    "    return results\n",
    "\n",
    "\n",
    "snapshot = make_snapshot()"
   ]
  },
  {
   "cell_type": "code",
   "execution_count": null,
   "id": "75622ef0",
   "metadata": {},
   "outputs": [],
   "source": [
    "pl.Config.set_tbl_rows(20)\n",
    "pl.Config.set_fmt_str_lengths(50)\n",
    "\n",
    "df = pl.DataFrame(snapshot, schema_overrides={\"balance\": pl.Float64})\n",
    "df.write_csv(\"snapshot_data.csv\")"
   ]
  },
  {
   "cell_type": "code",
   "execution_count": null,
   "id": "18167b76",
   "metadata": {},
   "outputs": [],
   "source": [
    "import pandas as pd\n",
    "\n",
    "# Filter dataframe for YES token, and extract only relevant columns.\n",
    "df = pd.DataFrame(snapshot)\n",
    "df = df[df['token'].str.lower() == str(yes).lower()]\n",
    "df = df[['user', 'protocol', 'balance']]\n",
    "\n",
    "# Define the categories\n",
    "credit_categories = ['baseline', 'team-credit']\n",
    "spot_categories   = [column for column in df['protocol'].unique() if column not in credit_categories]\n",
    "\n",
    "# Aggregate data baed on spot, and credit balance.\n",
    "def custom_aggregation(group):\n",
    "  spot_balance       = group.loc[group['protocol'].isin(spot_categories), 'balance'].sum()\n",
    "  credit_balance     = group.loc[group['protocol'].isin(credit_categories), 'balance'].sum()\n",
    "  return pd.Series([spot_balance, credit_balance], index=['spot_yes', 'credit_yes'])\n",
    "\n",
    "df = df.groupby('user').apply(custom_aggregation).reset_index(drop=False)\n",
    "with open('snapshot.json', 'w') as json_file:\n",
    "  json_file.write(df.to_json(orient='records'))\n",
    "\n",
    "# Some sanity checks\n",
    "# print(df[df['user'] == '0xd2FB4d5A11c1e63d910D2A9782d23e63fa369c84'])\n",
    "# spot_yes   = df[df['user'] == '0xd2FB4d5A11c1e63d910D2A9782d23e63fa369c84']['spot_yes'].iloc[0]\n",
    "# credit_yes = df[df['user'] == '0xd2FB4d5A11c1e63d910D2A9782d23e63fa369c84']['credit_yes'].iloc[0]\n",
    "# print('spot_yes = ', spot_yes) \n",
    "# print('credit_yes = ', credit_yes) \n",
    "\n",
    "# assert spot_yes   == 5770028620088576344903\n",
    "# assert credit_yes == 64450250588450911975303\n",
    "# 993495877153037221888 + 526819626003145097216 + 4249713116932394025799"
   ]
  },
  {
   "cell_type": "code",
   "execution_count": null,
   "id": "4e54e136",
   "metadata": {},
   "outputs": [
    {
     "data": {
      "text/html": [
       "<div><style>\n",
       ".dataframe > thead > tr,\n",
       ".dataframe > tbody > tr {\n",
       "  text-align: right;\n",
       "  white-space: pre-wrap;\n",
       "}\n",
       "</style>\n",
       "<small>shape: (16, 2)</small><table border=\"1\" class=\"dataframe\"><thead><tr><th>protocol</th><th>balance</th></tr><tr><td>str</td><td>f64</td></tr></thead><tbody><tr><td>&quot;baseline&quot;</td><td>1.1019e7</td></tr><tr><td>&quot;team-credit&quot;</td><td>1.5456e6</td></tr><tr><td>&quot;hyperlock&quot;</td><td>1.5330e6</td></tr><tr><td>&quot;spot&quot;</td><td>1.3727e6</td></tr><tr><td>&quot;thruster-v3&quot;</td><td>175860.164968</td></tr><tr><td>&quot;team-spot&quot;</td><td>129533.379031</td></tr><tr><td>&quot;wasabi-vault&quot;</td><td>95866.943684</td></tr><tr><td>&quot;ambient&quot;</td><td>95559.435243</td></tr><tr><td>&quot;particle&quot;</td><td>63231.136041</td></tr><tr><td>&quot;alien&quot;</td><td>3437.943613</td></tr><tr><td>&quot;maybe&quot;</td><td>2952.67</td></tr><tr><td>&quot;ajna&quot;</td><td>2020.433545</td></tr><tr><td>&quot;wasabi&quot;</td><td>575.288944</td></tr><tr><td>&quot;roguex&quot;</td><td>455.723067</td></tr><tr><td>&quot;thruster-v2&quot;</td><td>164.50362</td></tr><tr><td>&quot;few&quot;</td><td>11.4993</td></tr></tbody></table></div>"
      ],
      "text/plain": [
       "shape: (16, 2)\n",
       "┌──────────────┬───────────────┐\n",
       "│ protocol     ┆ balance       │\n",
       "│ ---          ┆ ---           │\n",
       "│ str          ┆ f64           │\n",
       "╞══════════════╪═══════════════╡\n",
       "│ baseline     ┆ 1.1019e7      │\n",
       "│ team-credit  ┆ 1.5456e6      │\n",
       "│ hyperlock    ┆ 1.5330e6      │\n",
       "│ spot         ┆ 1.3727e6      │\n",
       "│ thruster-v3  ┆ 175860.164968 │\n",
       "│ team-spot    ┆ 129533.379031 │\n",
       "│ wasabi-vault ┆ 95866.943684  │\n",
       "│ ambient      ┆ 95559.435243  │\n",
       "│ particle     ┆ 63231.136041  │\n",
       "│ alien        ┆ 3437.943613   │\n",
       "│ maybe        ┆ 2952.67       │\n",
       "│ ajna         ┆ 2020.433545   │\n",
       "│ wasabi       ┆ 575.288944    │\n",
       "│ roguex       ┆ 455.723067    │\n",
       "│ thruster-v2  ┆ 164.50362     │\n",
       "│ few          ┆ 11.4993       │\n",
       "└──────────────┴───────────────┘"
      ]
     },
     "execution_count": null,
     "metadata": {},
     "output_type": "execute_result"
    }
   ],
   "source": [
    "(\n",
    "    df.filter(pl.col(\"token\") == str(yes))\n",
    "    .group_by(\"protocol\")\n",
    "    .agg(pl.sum(\"balance\"))\n",
    "    .sort(\"balance\", descending=True)\n",
    ")"
   ]
  }
 ],
 "metadata": {
  "kernelspec": {
   "display_name": "Python 3 (ipykernel)",
   "language": "python",
   "name": "python3"
  },
  "language_info": {
   "codemirror_mode": {
    "name": "ipython",
    "version": 3
   },
   "file_extension": ".py",
   "mimetype": "text/x-python",
   "name": "python",
   "nbconvert_exporter": "python",
   "pygments_lexer": "ipython3"
  }
 },
 "nbformat": 4,
 "nbformat_minor": 5
}
